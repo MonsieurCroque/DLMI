{
  "nbformat": 4,
  "nbformat_minor": 0,
  "metadata": {
    "colab": {
      "name": "DLMI unet 2d.ipynb",
      "provenance": [],
      "collapsed_sections": [
        "Go39yM21bvzj"
      ],
      "toc_visible": true
    },
    "kernelspec": {
      "name": "python3",
      "display_name": "Python 3"
    },
    "accelerator": "GPU"
  },
  "cells": [
    {
      "cell_type": "code",
      "metadata": {
        "id": "Ye4tIACaI23H",
        "colab_type": "code",
        "colab": {}
      },
      "source": [
        "import torch\n",
        "import numpy as np\n",
        "import pandas as pd\n",
        "from torch import nn\n",
        "from time import time\n",
        "from os import path\n",
        "from torchvision import transforms\n",
        "import random\n",
        "from copy import deepcopy\n",
        "import matplotlib.pyplot as plt\n",
        "import seaborn as sns"
      ],
      "execution_count": 0,
      "outputs": []
    },
    {
      "cell_type": "code",
      "metadata": {
        "id": "ZxfLs_ipkD3Z",
        "colab_type": "code",
        "outputId": "bea115fe-97dd-4583-c7a1-0aa0fcc11e76",
        "colab": {
          "base_uri": "https://localhost:8080/",
          "height": 122
        }
      },
      "source": [
        "from google.colab import drive\n",
        "drive.mount('/content/drive')"
      ],
      "execution_count": 0,
      "outputs": [
        {
          "output_type": "stream",
          "text": [
            "Go to this URL in a browser: https://accounts.google.com/o/oauth2/auth?client_id=947318989803-6bn6qk8qdgf4n4g3pfee6491hc0brc4i.apps.googleusercontent.com&redirect_uri=urn%3aietf%3awg%3aoauth%3a2.0%3aoob&response_type=code&scope=email%20https%3a%2f%2fwww.googleapis.com%2fauth%2fdocs.test%20https%3a%2f%2fwww.googleapis.com%2fauth%2fdrive%20https%3a%2f%2fwww.googleapis.com%2fauth%2fdrive.photos.readonly%20https%3a%2f%2fwww.googleapis.com%2fauth%2fpeopleapi.readonly\n",
            "\n",
            "Enter your authorization code:\n",
            "··········\n",
            "Mounted at /content/drive\n"
          ],
          "name": "stdout"
        }
      ]
    },
    {
      "cell_type": "markdown",
      "metadata": {
        "id": "L03TjLiKoWJH",
        "colab_type": "text"
      },
      "source": [
        "## Data Preperation"
      ]
    },
    {
      "cell_type": "code",
      "metadata": {
        "id": "ronkKB0mMmS5",
        "colab_type": "code",
        "colab": {}
      },
      "source": [
        "#Loading of the csv s\n",
        "\n",
        "path = '/content/drive/My Drive/DLMI/Data_challenge/'\n",
        "output = pd.read_csv(path +\"output_VSVxRFU.csv\")\n",
        "\n",
        "path_train = path +  \"data_Q0G7b5t/\"\n",
        "clinical_data_train = pd.read_csv(path_train +\"features/clinical_data.csv\")\n",
        "radiomics_train = pd.read_csv(path_train +\"features/radiomics.csv\")\n",
        "\n",
        "path_test= path + \"data_9Cbe5hx/\"\n",
        "clinical_data_test = pd.read_csv(path_test +\"features/clinical_data.csv\")\n",
        "radiomics_test = pd.read_csv(path_test +\"features/radiomics.csv\")\n",
        "\n",
        "radiomics_train.columns = [\"PatientID\"] + list(radiomics_train.iloc[0,1:])\n",
        "radiomics_train = radiomics_train.iloc[2:,:]\n",
        "radiomics_train = (radiomics_train).astype(float)\n",
        "\n",
        "radiomics_test.columns = [\"PatientID\"] + list(radiomics_test.iloc[0,1:])\n",
        "radiomics_test = radiomics_test.iloc[2:,:]\n",
        "radiomics_test = (radiomics_test).astype(float)\n",
        "\n",
        "clinical_data_train.set_index(\"PatientID\", inplace=True)\n",
        "clinical_data_test.set_index(\"PatientID\", inplace=True)\n",
        "radiomics_train.set_index(\"PatientID\", inplace=True)\n",
        "radiomics_test.set_index(\"PatientID\", inplace=True)\n",
        "output.set_index(\"PatientID\",inplace=True)\n",
        "\n",
        "submission_ex = pd.read_csv(path + \"random_submission_0vhlEZN.csv\")\n",
        "submission_ex.set_index(\"PatientID\", inplace=True)"
      ],
      "execution_count": 0,
      "outputs": []
    },
    {
      "cell_type": "markdown",
      "metadata": {
        "id": "rGbSXikLRU3T",
        "colab_type": "text"
      },
      "source": [
        "## Analysing the data"
      ]
    },
    {
      "cell_type": "code",
      "metadata": {
        "id": "W0skOA4523O6",
        "colab_type": "code",
        "outputId": "d840d00f-ff82-47c3-849b-ca434450b110",
        "colab": {
          "base_uri": "https://localhost:8080/",
          "height": 266
        }
      },
      "source": [
        "def characteristics_table(df, merged_df,output):\n",
        "    \"\"\"Creates a DataFrame that summarizes the characteristics of the DataFrame df\"\"\"\n",
        "    Histology = set(clinical_data_train['Histology'])\n",
        "    population_df = pd.DataFrame(index=Histology,\n",
        "                                columns=['Tstage','Mstage','Nstage', 'age','%l1','%l2','SurvivalTime','Event=0',\"Event=1\" \n",
        "                                         ])\n",
        "    df = df.join(output,on='PatientID')\n",
        "    merged_df = merged_df.join(output,on='PatientID')\n",
        "    sub_merged_df = merged_df.loc[df.index]\n",
        "    \n",
        "    for Histology in population_df.index.values:\n",
        "        if not pd.isna(Histology):\n",
        "          Histology_df = sub_merged_df[df.Histology == Histology]\n",
        "          population_df.loc[Histology, 'N'] = len(Histology_df)\n",
        "          # Age\n",
        "          mean_age = np.nanmean(Histology_df.age)\n",
        "          std_age = np.nanstd(Histology_df.age)\n",
        "          population_df.loc[Histology, 'age'] = '%.1f ± %.1f' % (mean_age, std_age)\n",
        "          # l1\n",
        "          population_df.loc[Histology, '%l1'] = round((len(Histology_df[Histology_df.SourceDataset == 'l1']) / len(Histology_df.SourceDataset)) * 100, 1)\n",
        "          # l2\n",
        "          population_df.loc[Histology, '%l2'] = round((len(Histology_df[Histology_df.SourceDataset == 'l2']) / len(Histology_df)) * 100, 1)\n",
        "          # Tstage\n",
        "          mean_Tstage= np.nanmean(Histology_df.Tstage)\n",
        "          std_Tstage = np.nanstd(Histology_df.Tstage)\n",
        "          population_df.loc[Histology, 'Tstage'] = '%.1f ± %.1f' % (mean_Tstage, std_Tstage)\n",
        "          # Mstage\n",
        "          mean_Mstage= np.nanmean(Histology_df.Mstage)\n",
        "          std_Mstage = np.nanstd(Histology_df.Mstage)\n",
        "          population_df.loc[Histology, 'Mstage'] = '%.1f ± %.1f' % (mean_Mstage, std_Mstage)\n",
        "          # Nstage\n",
        "          mean_Nstage= np.nanmean(Histology_df.Nstage)\n",
        "          std_Nstage = np.nanstd(Histology_df.Nstage)\n",
        "          population_df.loc[Histology, 'Nstage'] = '%.1f ± %.1f' % (mean_Nstage, std_Nstage)\n",
        "          #Survival time\n",
        "          mean_SurvivalTime= np.nanmean(Histology_df.SurvivalTime)\n",
        "          std_SurvivalTime = np.nanstd(Histology_df.SurvivalTime)\n",
        "          population_df.loc[Histology, 'SurvivalTime'] = '%.1f ± %.1f' % (mean_SurvivalTime, std_SurvivalTime)\n",
        "          #Escape\n",
        "          for value in ['0', '1',]:\n",
        "            population_df.loc[Histology, 'Event=%s' % value] = len(Histology_df[Histology_df.Event == float(value)])\n",
        "\n",
        "    population_df = population_df.dropna()\n",
        "    return population_df\n",
        "\n",
        "\n",
        "population_df = characteristics_table(clinical_data_train,clinical_data_train,output)\n",
        "population_df"
      ],
      "execution_count": 0,
      "outputs": [
        {
          "output_type": "execute_result",
          "data": {
            "text/html": [
              "<div>\n",
              "<style scoped>\n",
              "    .dataframe tbody tr th:only-of-type {\n",
              "        vertical-align: middle;\n",
              "    }\n",
              "\n",
              "    .dataframe tbody tr th {\n",
              "        vertical-align: top;\n",
              "    }\n",
              "\n",
              "    .dataframe thead th {\n",
              "        text-align: right;\n",
              "    }\n",
              "</style>\n",
              "<table border=\"1\" class=\"dataframe\">\n",
              "  <thead>\n",
              "    <tr style=\"text-align: right;\">\n",
              "      <th></th>\n",
              "      <th>Tstage</th>\n",
              "      <th>Mstage</th>\n",
              "      <th>Nstage</th>\n",
              "      <th>age</th>\n",
              "      <th>%l1</th>\n",
              "      <th>%l2</th>\n",
              "      <th>SurvivalTime</th>\n",
              "      <th>Event=0</th>\n",
              "      <th>Event=1</th>\n",
              "      <th>N</th>\n",
              "    </tr>\n",
              "  </thead>\n",
              "  <tbody>\n",
              "    <tr>\n",
              "      <th>NSCLC NOS (not otherwise specified)</th>\n",
              "      <td>2.0 ± 1.0</td>\n",
              "      <td>0.0 ± 0.0</td>\n",
              "      <td>1.0 ± 1.0</td>\n",
              "      <td>70.0 ± 6.0</td>\n",
              "      <td>0</td>\n",
              "      <td>100</td>\n",
              "      <td>1116.0 ± 797.0</td>\n",
              "      <td>0</td>\n",
              "      <td>2</td>\n",
              "      <td>2.0</td>\n",
              "    </tr>\n",
              "    <tr>\n",
              "      <th>large cell</th>\n",
              "      <td>2.5 ± 1.1</td>\n",
              "      <td>0.1 ± 0.5</td>\n",
              "      <td>1.8 ± 1.1</td>\n",
              "      <td>66.5 ± 10.3</td>\n",
              "      <td>100</td>\n",
              "      <td>0</td>\n",
              "      <td>638.9 ± 460.2</td>\n",
              "      <td>25</td>\n",
              "      <td>36</td>\n",
              "      <td>61.0</td>\n",
              "    </tr>\n",
              "    <tr>\n",
              "      <th>adenocarcinoma</th>\n",
              "      <td>2.2 ± 1.0</td>\n",
              "      <td>0.0 ± 0.0</td>\n",
              "      <td>1.8 ± 1.2</td>\n",
              "      <td>67.8 ± 9.1</td>\n",
              "      <td>100</td>\n",
              "      <td>0</td>\n",
              "      <td>484.8 ± 406.9</td>\n",
              "      <td>7</td>\n",
              "      <td>14</td>\n",
              "      <td>21.0</td>\n",
              "    </tr>\n",
              "    <tr>\n",
              "      <th>nos</th>\n",
              "      <td>2.3 ± 1.1</td>\n",
              "      <td>0.1 ± 0.5</td>\n",
              "      <td>1.3 ± 1.2</td>\n",
              "      <td>67.4 ± 10.7</td>\n",
              "      <td>100</td>\n",
              "      <td>0</td>\n",
              "      <td>584.1 ± 403.1</td>\n",
              "      <td>11</td>\n",
              "      <td>27</td>\n",
              "      <td>38.0</td>\n",
              "    </tr>\n",
              "    <tr>\n",
              "      <th>squamous cell carcinoma</th>\n",
              "      <td>2.5 ± 1.1</td>\n",
              "      <td>0.0 ± 0.0</td>\n",
              "      <td>0.9 ± 1.1</td>\n",
              "      <td>70.6 ± 8.9</td>\n",
              "      <td>100</td>\n",
              "      <td>0</td>\n",
              "      <td>561.3 ± 474.8</td>\n",
              "      <td>20</td>\n",
              "      <td>39</td>\n",
              "      <td>59.0</td>\n",
              "    </tr>\n",
              "    <tr>\n",
              "      <th>Squamous cell carcinoma</th>\n",
              "      <td>1.7 ± 0.9</td>\n",
              "      <td>0.0 ± 0.0</td>\n",
              "      <td>0.2 ± 0.6</td>\n",
              "      <td>72.3 ± 6.1</td>\n",
              "      <td>0</td>\n",
              "      <td>100</td>\n",
              "      <td>1396.0 ± 871.6</td>\n",
              "      <td>14</td>\n",
              "      <td>5</td>\n",
              "      <td>19.0</td>\n",
              "    </tr>\n",
              "    <tr>\n",
              "      <th>Adenocarcinoma</th>\n",
              "      <td>1.6 ± 0.8</td>\n",
              "      <td>0.0 ± 0.2</td>\n",
              "      <td>0.3 ± 0.7</td>\n",
              "      <td>69.5 ± 9.2</td>\n",
              "      <td>0</td>\n",
              "      <td>100</td>\n",
              "      <td>1408.8 ± 840.5</td>\n",
              "      <td>53</td>\n",
              "      <td>27</td>\n",
              "      <td>80.0</td>\n",
              "    </tr>\n",
              "  </tbody>\n",
              "</table>\n",
              "</div>"
            ],
            "text/plain": [
              "                                        Tstage     Mstage  ... Event=1     N\n",
              "NSCLC NOS (not otherwise specified)  2.0 ± 1.0  0.0 ± 0.0  ...       2   2.0\n",
              "large cell                           2.5 ± 1.1  0.1 ± 0.5  ...      36  61.0\n",
              "adenocarcinoma                       2.2 ± 1.0  0.0 ± 0.0  ...      14  21.0\n",
              "nos                                  2.3 ± 1.1  0.1 ± 0.5  ...      27  38.0\n",
              "squamous cell carcinoma              2.5 ± 1.1  0.0 ± 0.0  ...      39  59.0\n",
              "Squamous cell carcinoma              1.7 ± 0.9  0.0 ± 0.0  ...       5  19.0\n",
              "Adenocarcinoma                       1.6 ± 0.8  0.0 ± 0.2  ...      27  80.0\n",
              "\n",
              "[7 rows x 10 columns]"
            ]
          },
          "metadata": {
            "tags": []
          },
          "execution_count": 5
        }
      ]
    },
    {
      "cell_type": "code",
      "metadata": {
        "id": "Ut3et_ePoOq-",
        "colab_type": "code",
        "outputId": "d8005233-f0e9-4939-fe89-40b4db7ce453",
        "colab": {
          "base_uri": "https://localhost:8080/",
          "height": 283
        }
      },
      "source": [
        "###\n",
        "def characteristics_table(df, merged_df):\n",
        "    \"\"\"Creates a DataFrame that summarizes the characteristics of the DataFrame df\"\"\"\n",
        "    Histology = set(clinical_data_train['Histology'])\n",
        "    population_df = pd.DataFrame(index=Histology,\n",
        "                                columns=['Tstage','Mstage','Nstage', 'age','%l1','%l2' \n",
        "                                         ])\n",
        "    sub_merged_df = merged_df.loc[df.index]\n",
        "    \n",
        "    for Histology in population_df.index.values:\n",
        "        if not pd.isna(Histology):\n",
        "          Histology_df = sub_merged_df[df.Histology == Histology]\n",
        "          population_df.loc[Histology, 'N'] = len(Histology_df)\n",
        "          # Age\n",
        "          mean_age = np.nanmean(Histology_df.age)\n",
        "          std_age = np.nanstd(Histology_df.age)\n",
        "          population_df.loc[Histology, 'age'] = '%.1f ± %.1f' % (mean_age, std_age)\n",
        "          # l1\n",
        "          population_df.loc[Histology, '%l1'] = round((len(Histology_df[Histology_df.SourceDataset == 'l1']) / len(Histology_df.SourceDataset)) * 100, 1)\n",
        "          # l2\n",
        "          population_df.loc[Histology, '%l2'] = round((len(Histology_df[Histology_df.SourceDataset == 'l2']) / len(Histology_df)) * 100, 1)\n",
        "          # Tstage\n",
        "          mean_Tstage= np.nanmean(Histology_df.Tstage)\n",
        "          std_Tstage = np.nanstd(Histology_df.Tstage)\n",
        "          population_df.loc[Histology, 'Tstage'] = '%.1f ± %.1f' % (mean_Tstage, std_Tstage)\n",
        "          # Mstage\n",
        "          mean_Mstage= np.nanmean(Histology_df.Mstage)\n",
        "          std_Mstage = np.nanstd(Histology_df.Mstage)\n",
        "          population_df.loc[Histology, 'Mstage'] = '%.1f ± %.1f' % (mean_Mstage, std_Mstage)\n",
        "          # Nstage\n",
        "          mean_Nstage= np.nanmean(Histology_df.Nstage)\n",
        "          std_Nstage = np.nanstd(Histology_df.Nstage)\n",
        "          population_df.loc[Histology, 'Nstage'] = '%.1f ± %.1f' % (mean_Nstage, std_Nstage)\n",
        "\n",
        "    population_df = population_df.dropna()\n",
        "    return population_df\n",
        "\n",
        "population_df = characteristics_table(clinical_data_test,clinical_data_test)\n",
        "print(\"For this dataset we don't have the output as we have to figure it out\")\n",
        "population_df"
      ],
      "execution_count": 0,
      "outputs": [
        {
          "output_type": "stream",
          "text": [
            "For this dataset we don't have the output as we have to figure it out\n"
          ],
          "name": "stdout"
        },
        {
          "output_type": "execute_result",
          "data": {
            "text/html": [
              "<div>\n",
              "<style scoped>\n",
              "    .dataframe tbody tr th:only-of-type {\n",
              "        vertical-align: middle;\n",
              "    }\n",
              "\n",
              "    .dataframe tbody tr th {\n",
              "        vertical-align: top;\n",
              "    }\n",
              "\n",
              "    .dataframe thead th {\n",
              "        text-align: right;\n",
              "    }\n",
              "</style>\n",
              "<table border=\"1\" class=\"dataframe\">\n",
              "  <thead>\n",
              "    <tr style=\"text-align: right;\">\n",
              "      <th></th>\n",
              "      <th>Tstage</th>\n",
              "      <th>Mstage</th>\n",
              "      <th>Nstage</th>\n",
              "      <th>age</th>\n",
              "      <th>%l1</th>\n",
              "      <th>%l2</th>\n",
              "      <th>N</th>\n",
              "    </tr>\n",
              "  </thead>\n",
              "  <tbody>\n",
              "    <tr>\n",
              "      <th>NSCLC NOS (not otherwise specified)</th>\n",
              "      <td>4.0 ± 0.0</td>\n",
              "      <td>0.0 ± 0.0</td>\n",
              "      <td>0.0 ± 0.0</td>\n",
              "      <td>76.0 ± 0.0</td>\n",
              "      <td>0</td>\n",
              "      <td>100</td>\n",
              "      <td>1.0</td>\n",
              "    </tr>\n",
              "    <tr>\n",
              "      <th>large cell</th>\n",
              "      <td>2.8 ± 1.2</td>\n",
              "      <td>0.0 ± 0.0</td>\n",
              "      <td>1.6 ± 1.3</td>\n",
              "      <td>67.6 ± 10.0</td>\n",
              "      <td>100</td>\n",
              "      <td>0</td>\n",
              "      <td>32.0</td>\n",
              "    </tr>\n",
              "    <tr>\n",
              "      <th>adenocarcinoma</th>\n",
              "      <td>1.8 ± 1.2</td>\n",
              "      <td>0.0 ± 0.0</td>\n",
              "      <td>1.8 ± 1.0</td>\n",
              "      <td>69.8 ± 6.1</td>\n",
              "      <td>100</td>\n",
              "      <td>0</td>\n",
              "      <td>5.0</td>\n",
              "    </tr>\n",
              "    <tr>\n",
              "      <th>nos</th>\n",
              "      <td>2.4 ± 1.0</td>\n",
              "      <td>0.0 ± 0.0</td>\n",
              "      <td>1.5 ± 1.3</td>\n",
              "      <td>60.7 ± 7.8</td>\n",
              "      <td>100</td>\n",
              "      <td>0</td>\n",
              "      <td>13.0</td>\n",
              "    </tr>\n",
              "    <tr>\n",
              "      <th>squamous cell carcinoma</th>\n",
              "      <td>2.7 ± 0.9</td>\n",
              "      <td>0.0 ± 0.0</td>\n",
              "      <td>1.7 ± 1.3</td>\n",
              "      <td>70.7 ± 11.6</td>\n",
              "      <td>100</td>\n",
              "      <td>0</td>\n",
              "      <td>23.0</td>\n",
              "    </tr>\n",
              "    <tr>\n",
              "      <th>Squamous cell carcinoma</th>\n",
              "      <td>1.6 ± 0.7</td>\n",
              "      <td>0.0 ± 0.0</td>\n",
              "      <td>0.4 ± 0.7</td>\n",
              "      <td>70.2 ± 4.4</td>\n",
              "      <td>0</td>\n",
              "      <td>100</td>\n",
              "      <td>8.0</td>\n",
              "    </tr>\n",
              "    <tr>\n",
              "      <th>Adenocarcinoma</th>\n",
              "      <td>1.7 ± 0.8</td>\n",
              "      <td>0.1 ± 0.2</td>\n",
              "      <td>0.3 ± 0.6</td>\n",
              "      <td>66.6 ± 9.5</td>\n",
              "      <td>0</td>\n",
              "      <td>100</td>\n",
              "      <td>31.0</td>\n",
              "    </tr>\n",
              "  </tbody>\n",
              "</table>\n",
              "</div>"
            ],
            "text/plain": [
              "                                        Tstage     Mstage  ...  %l2     N\n",
              "NSCLC NOS (not otherwise specified)  4.0 ± 0.0  0.0 ± 0.0  ...  100   1.0\n",
              "large cell                           2.8 ± 1.2  0.0 ± 0.0  ...    0  32.0\n",
              "adenocarcinoma                       1.8 ± 1.2  0.0 ± 0.0  ...    0   5.0\n",
              "nos                                  2.4 ± 1.0  0.0 ± 0.0  ...    0  13.0\n",
              "squamous cell carcinoma              2.7 ± 0.9  0.0 ± 0.0  ...    0  23.0\n",
              "Squamous cell carcinoma              1.6 ± 0.7  0.0 ± 0.0  ...  100   8.0\n",
              "Adenocarcinoma                       1.7 ± 0.8  0.1 ± 0.2  ...  100  31.0\n",
              "\n",
              "[7 rows x 7 columns]"
            ]
          },
          "metadata": {
            "tags": []
          },
          "execution_count": 6
        }
      ]
    },
    {
      "cell_type": "code",
      "metadata": {
        "id": "85UYYgnwXhFF",
        "colab_type": "code",
        "colab": {}
      },
      "source": [
        "#Path images train et test \n",
        "Path_image_train = path + \"data_Q0G7b5t/images/\"\n",
        "Path_image_test = path + \"data_9Cbe5hx/images/\""
      ],
      "execution_count": 0,
      "outputs": []
    },
    {
      "cell_type": "code",
      "metadata": {
        "id": "myOu9L1KdzRq",
        "colab_type": "code",
        "outputId": "0942fd62-9d53-4cdb-da8f-100e817f4610",
        "colab": {
          "base_uri": "https://localhost:8080/",
          "height": 923
        }
      },
      "source": [
        "import matplotlib.pyplot as plt\n",
        "import nibabel as nib\n",
        "from scipy.ndimage import rotate\n",
        "\n",
        "ex_archive = np.load(Path_image_train + 'patient_020.npz')\n",
        "scan = ex_archive['scan']\n",
        "mask = ex_archive['mask']\n",
        "\n",
        "# scan.shape equals mask.shape\n",
        "\n",
        "def show_slices(slices):\n",
        "    \"\"\" Function to display a row of image slices \"\"\"\n",
        "    fig, axes = plt.subplots(1, len(slices))\n",
        "    for i, slice in enumerate(slices):\n",
        "        axes[i].imshow(slice.T, cmap=\"gray\", origin=\"lower\")\n",
        "\n",
        "\n",
        "print(\"shape of scan is \" + str(scan.shape))\n",
        "print(\"shape of mask is \" + str(mask.shape))\n",
        "\n",
        "slice_0 = scan[ :,:,1]\n",
        "slice_1 = scan[ :,:,30]\n",
        "slice_2 = scan[ :,:,60]\n",
        "show_slices([slice_0,slice_1,slice_2])\n",
        "plt.suptitle(\"Slice of raw scan of subject following first axe\")\n",
        "plt.show()\n",
        "\n",
        "slice_0 = scan[ 1,:,:]\n",
        "slice_1 = scan[ 30,:,:]\n",
        "slice_2 = scan[ 60,:,:]\n",
        "show_slices([slice_0,slice_1,slice_2])\n",
        "plt.suptitle(\"Slice of raw scan of subject following second axe\")\n",
        "plt.show()\n",
        "\n",
        "\n",
        "slice_0 = scan[ :,1,:]\n",
        "slice_1 = scan[ :,30,:]\n",
        "slice_2 = scan[ :,60,:]\n",
        "show_slices([slice_0,slice_1,slice_2])\n",
        "plt.suptitle(\"Slice of raw scan of subject following second axe\")\n",
        "plt.show()\n",
        "\n",
        "\n",
        "slice_0 = mask[ :,:,1]\n",
        "slice_1 = mask[ :,:,30]\n",
        "slice_2 = mask[ :,:,60]\n",
        "show_slices([slice_0,slice_1,slice_2])\n",
        "plt.suptitle(\"Slice of raw mask of subject following first axe\")\n",
        "plt.show()\n"
      ],
      "execution_count": 0,
      "outputs": [
        {
          "output_type": "stream",
          "text": [
            "shape of scan is (92, 92, 92)\n",
            "shape of mask is (92, 92, 92)\n"
          ],
          "name": "stdout"
        },
        {
          "output_type": "display_data",
          "data": {
            "image/png": "[encoded data removed]",
            "text/plain": [
              "<Figure size 432x288 with 3 Axes>"
            ]
          },
          "metadata": {
            "tags": []
          }
        },
        {
          "output_type": "display_data",
          "data": {
            "image/png": "[encoded data removed]",
            "text/plain": [
              "<Figure size 432x288 with 3 Axes>"
            ]
          },
          "metadata": {
            "tags": []
          }
        },
        {
          "output_type": "display_data",
          "data": {
            "image/png": "[encoded data removed]",
            "text/plain": [
              "<Figure size 432x288 with 3 Axes>"
            ]
          },
          "metadata": {
            "tags": []
          }
        },
        {
          "output_type": "display_data",
          "data": {
            "image/png": "[encoded data removed]",
            "text/plain": [
              "<Figure size 432x288 with 3 Axes>"
            ]
          },
          "metadata": {
            "tags": []
          }
        }
      ]
    },
    {
      "cell_type": "markdown",
      "metadata": {
        "id": "OnABDjaFBnI6",
        "colab_type": "text"
      },
      "source": [
        "## Preparing Data Loaders"
      ]
    },
    {
      "cell_type": "code",
      "metadata": {
        "id": "3M-ZEjjtVbE0",
        "colab_type": "code",
        "colab": {}
      },
      "source": [
        "#Path images train et test \n",
        "Path_image_train = path + \"data_Q0G7b5t/images/\"\n",
        "Path_image_test = path + \"data_9Cbe5hx/images/\""
      ],
      "execution_count": 0,
      "outputs": []
    },
    {
      "cell_type": "code",
      "metadata": {
        "id": "580FC_YxpwZx",
        "colab_type": "code",
        "colab": {}
      },
      "source": [
        "from torch.utils.data import Dataset, DataLoader, sampler\n",
        "\n",
        "class OurDataset_train(Dataset):\n",
        "    \"\"\"This dataset includes .... \"\"\"\n",
        "    \n",
        "    def __init__(self, img_dir, clinical_data,radiomics, output, transform=None):\n",
        "        \"\"\"\n",
        "        Args:\n",
        "            img_dir: (str) path to the images directory.\n",
        "            clinical_data: (DataFrame) list of subjects with clinical data.\n",
        "            radiomics: (DataFrame) list of subjects with 53 features on each.\n",
        "            transform: Optional, transformations applied to ...\n",
        "        \"\"\"\n",
        "        self.img_dir = img_dir\n",
        "        self.radiomics = radiomics\n",
        "        self.clinical_data = clinical_data\n",
        "        self.transform = transform\n",
        "        \n",
        "        self.clinical_data = self.clinical_data.join(output,on='PatientID')\n",
        "        self.clinical_data = self.clinical_data.reset_index()\n",
        "\n",
        "        self.size = self[0]['scan'].shape\n",
        "        \n",
        "    def __len__(self):\n",
        "        return len(self.clinical_data)\n",
        "\n",
        "    def __getitem__(self, idx):\n",
        "        \"\"\"\n",
        "        Args:\n",
        "            idx: (int) the index of the subject/session whom data is loaded.\n",
        "        Returns:\n",
        "            sample: (dict) corresponding data described by the following keys:\n",
        "                scan: \n",
        "                mask: \n",
        "                PatientID: \n",
        "                SourceDataset\t\n",
        "        \"\"\"\n",
        "        PatientID = self.clinical_data.loc[idx, 'PatientID']\n",
        "        str_PID = str(PatientID)\n",
        "        if len(str_PID) ==1:\n",
        "          str_PID = \"00\"+str_PID\n",
        "        elif len(str_PID) ==2:\n",
        "          str_PID = \"0\"+str_PID\n",
        "\n",
        "        SourceDataset = self.clinical_data.loc[idx, 'SourceDataset']\n",
        "\n",
        "\n",
        "        filename = \"patient_\"+ str_PID + \".npz\"\n",
        "        with np.load(self.img_dir + filename) as image:\n",
        "            scan = torch.from_numpy(image['scan']).type(torch.FloatTensor)\n",
        "            scan = scan.permute(2,1,0)\n",
        "            mask = torch.from_numpy(image['mask']).type(torch.FloatTensor)\n",
        "            mask = mask.permute(2,1,0)\n",
        "        SurvivalTime = self.clinical_data.loc[idx, 'SurvivalTime'].astype(np.long)\n",
        "        \n",
        "        if self.transform:\n",
        "            scan = self.transform(scan)\n",
        "\n",
        "        sample = {'scan': scan, 'mask': mask,\n",
        "                  'PatientID': PatientID,\n",
        "                  'SurvivalTime' : SurvivalTime,\n",
        "                  'SourceDataset': SourceDataset}\n",
        "        return sample\n",
        "\n",
        "    def train(self):\n",
        "        \"\"\"Put all the transforms of the dataset in training mode\"\"\"\n",
        "        self.transform.train()\n",
        "\n",
        "    def eval(self):\n",
        "        \"\"\"Put all the transforms of the dataset in evaluation mode\"\"\"\n",
        "        self.transform.eval()\n",
        "\n",
        "class OurDataset_test(Dataset):\n",
        "    \"\"\"This dataset includes .... \"\"\"\n",
        "    \n",
        "    def __init__(self, img_dir, clinical_data,radiomics, transform=None):\n",
        "        \"\"\"\n",
        "        Args:\n",
        "            img_dir: (str) path to the images directory.\n",
        "            clinical_data: (DataFrame) list of subjects with clinical data.\n",
        "            radiomics: (DataFrame) list of subjects with 53 features on each.\n",
        "            transform: Optional, transformations applied to ...\n",
        "        \"\"\"\n",
        "        self.img_dir = img_dir\n",
        "        self.radiomics = radiomics\n",
        "        self.clinical_data = clinical_data\n",
        "        self.transform = transform\n",
        "        \n",
        "        self.clinical_data = self.clinical_data.reset_index()\n",
        "        #self.clinical_data = self.clinical_data.reset_index()\n",
        "\n",
        "        self.size = self[0]['scan'].shape\n",
        "        \n",
        "    def __len__(self):\n",
        "        return len(self.clinical_data)\n",
        "\n",
        "    def __getitem__(self, idx):\n",
        "\n",
        "        PatientID = self.clinical_data.loc[idx, 'PatientID']\n",
        "        str_PID = str(PatientID)\n",
        "        if len(str_PID) ==1:\n",
        "          str_PID = \"00\"+str_PID\n",
        "        elif len(str_PID) ==2:\n",
        "          str_PID = \"0\"+str_PID\n",
        "\n",
        "        SourceDataset = self.clinical_data.loc[idx, 'SourceDataset']\n",
        "\n",
        "        filename = \"patient_\"+ str_PID + \".npz\"\n",
        "        with np.load(self.img_dir + filename) as image:\n",
        "            scan = torch.from_numpy(image['scan']).type(torch.FloatTensor)#.unsqueeze(0)\n",
        "            scan = scan.permute(2,1,0)\n",
        "            mask = torch.from_numpy(image['mask']).type(torch.FloatTensor)#.unsqueeze(0)\n",
        "            mask = mask.permute(2,1,0)\n",
        "        \n",
        "        if self.transform:\n",
        "            scan = self.transform(scan)\n",
        "\n",
        "        sample = {'scan': scan, 'mask': mask,\n",
        "                  'PatientID': PatientID,\n",
        "                  'SourceDataset': SourceDataset}\n",
        "        return sample\n",
        "\n",
        "    def train(self):\n",
        "        \"\"\"Put all the transforms of the dataset in training mode\"\"\"\n",
        "        self.transform.train()\n",
        "\n",
        "    def eval(self):\n",
        "        \"\"\"Put all the transforms of the dataset in evaluation mode\"\"\"\n",
        "        self.transform.eval()\n",
        "\n",
        "class OurDataset_all(Dataset):\n",
        "    \n",
        "    def __init__(self, img_dir, clinical_data, radiomics, transform=None):\n",
        "\n",
        "        self.img_dir = img_dir\n",
        "        self.radiomics = radiomics\n",
        "        self.clinical_data = clinical_data\n",
        "        self.transform = transform\n",
        "        \n",
        "        self.clinical_data = self.clinical_data.reset_index()\n",
        "\n",
        "        self.size = self[0]['scan'].shape\n",
        "        \n",
        "    def __len__(self):\n",
        "        return len(self.clinical_data)\n",
        "\n",
        "    def __getitem__(self, idx):\n",
        "\n",
        "        PatientID = self.clinical_data.loc[idx, 'PatientID']\n",
        "        str_PID = str(PatientID)\n",
        "        if len(str_PID) ==1:\n",
        "          str_PID = \"00\"+str_PID\n",
        "        elif len(str_PID) ==2:\n",
        "          str_PID = \"0\"+str_PID\n",
        "\n",
        "        SourceDataset = self.clinical_data.loc[idx, 'SourceDataset']\n",
        "\n",
        "\n",
        "        filename = \"patient_\"+ str_PID + \".npz\"\n",
        "        with np.load(self.img_dir + filename) as image:\n",
        "            scan = torch.from_numpy(image['scan']).type(torch.FloatTensor)#.unsqueeze(0)\n",
        "            scan = scan.permute(2,1,0)\n",
        "            mask = torch.from_numpy(image['mask']).type(torch.FloatTensor)#.unsqueeze(0)\n",
        "            mask = mask.permute(2,1,0)\n",
        "        if self.transform:\n",
        "            scan = self.transform(scan)\n",
        "\n",
        "        sample = {'scan': scan, 'mask': mask,\n",
        "                  'PatientID': PatientID,\n",
        "                  'SourceDataset': SourceDataset}\n",
        "        return sample"
      ],
      "execution_count": 0,
      "outputs": []
    },
    {
      "cell_type": "code",
      "metadata": {
        "id": "FCAuH4PU2ULS",
        "colab_type": "code",
        "outputId": "a5c04f42-6760-4920-f7a2-9af70d0196a1",
        "colab": {
          "base_uri": "https://localhost:8080/",
          "height": 119
        }
      },
      "source": [
        "batch_size=1\n",
        "\n",
        "example_dataset = OurDataset_train(Path_image_train, clinical_data_train,radiomics_train,output,transform=None)\n",
        "example_dataloader = DataLoader(example_dataset, batch_size=batch_size, drop_last=True)\n",
        "\n",
        "for data in example_dataloader:\n",
        "    print(data['SurvivalTime'])\n",
        "    break\n",
        "\n",
        "print(\"Shape of Dataset output\\n\", example_dataset[0]['scan'].shape)\n",
        "print()\n",
        "print(\"Shape of DataLoader output\\n\", data['scan'].squeeze().shape)"
      ],
      "execution_count": 0,
      "outputs": [
        {
          "output_type": "stream",
          "text": [
            "tensor([1378])\n",
            "Shape of Dataset output\n",
            " torch.Size([92, 92, 92])\n",
            "\n",
            "Shape of DataLoader output\n",
            " torch.Size([92, 92, 92])\n"
          ],
          "name": "stdout"
        }
      ]
    },
    {
      "cell_type": "markdown",
      "metadata": {
        "id": "oyw2gCEPkHq9",
        "colab_type": "text"
      },
      "source": [
        "## Building the model"
      ]
    },
    {
      "cell_type": "code",
      "metadata": {
        "colab_type": "code",
        "id": "bQJbRxlfZmAb",
        "colab": {}
      },
      "source": [
        "def get_activation(activation_type):\n",
        "    activation_type = activation_type.lower()\n",
        "    if hasattr(nn, activation_type):\n",
        "      return getattr(nn, activation_type)()\n",
        "    else:\n",
        "      return nn.ReLU()\n",
        "\n",
        "def _make_nConv(in_channels, out_channels, nb_Conv, activation='ReLU'):\n",
        "  layers = []\n",
        "  layers.append(ConvBatchNorm(in_channels, out_channels, activation))\n",
        "\n",
        "  for _ in range(nb_Conv-1):\n",
        "      layers.append(ConvBatchNorm(out_channels, out_channels, activation))\n",
        "  return nn.Sequential(*layers)\n",
        "\n",
        "class ConvBatchNorm(nn.Module):\n",
        "  \"\"\"(convolution => [BN] => ReLU)\"\"\"\n",
        "  \n",
        "  def __init__(self, in_channels, out_channels, activation='ReLU'):\n",
        "    super(ConvBatchNorm, self).__init__()\n",
        "    self.conv = nn.Conv2d(in_channels, out_channels, \n",
        "                          kernel_size=3, padding=1)\n",
        "    self.norm = nn.BatchNorm2d(out_channels)\n",
        "    self.activation = get_activation(activation)\n",
        "      \n",
        "  def forward(self, x):\n",
        "    out = self.conv(x)\n",
        "    out = self.norm(out)\n",
        "    return self.activation(out)\n",
        "\n",
        "class DownBlock(nn.Module):\n",
        "  \"\"\"Downscaling with maxpool convolution\"\"\"\n",
        "\n",
        "  def __init__(self, in_channels, out_channels, nb_Conv, activation='ReLU'):\n",
        "    super(DownBlock, self).__init__()\n",
        "    self.maxpool = nn.MaxPool2d(2)\n",
        "    self.nConvs = _make_nConv(in_channels, out_channels, nb_Conv, activation)\n",
        "        \n",
        "  def forward(self, x):\n",
        "    out = self.maxpool(x)\n",
        "    return self.nConvs(out)  \n",
        "\n",
        "class UpBlock(nn.Module):\n",
        "  \"\"\"Upscaling then conv\"\"\"\n",
        "\n",
        "  def __init__(self, in_channels, out_channels, nb_Conv, in_padding=0, out_padding=1, activation='ReLU'):\n",
        "    super(UpBlock, self).__init__()\n",
        "    self.up = nn.ConvTranspose2d(in_channels-out_channels, in_channels-out_channels, kernel_size=2, stride=2,\\\n",
        "                                 padding=in_padding, output_padding=out_padding)\n",
        "    self.nConvs = _make_nConv(in_channels, out_channels, nb_Conv, activation)\n",
        "\n",
        "  def forward(self, x, skip_x):\n",
        "    out = self.up(x)\n",
        "    x = torch.cat([out, skip_x], dim=1) \n",
        "    return self.nConvs(x)"
      ],
      "execution_count": 0,
      "outputs": []
    },
    {
      "cell_type": "code",
      "metadata": {
        "colab_type": "code",
        "id": "xi_jPXtGZ1-p",
        "colab": {}
      },
      "source": [
        "class UNet(nn.Module):\n",
        "  def __init__(self, n_channels, n_classes):\n",
        "    '''\n",
        "    n_channels : number of channels of the input. \n",
        "                    By default 4, because we have 4 modalities\n",
        "    n_labels : number of channels of the ouput.\n",
        "                  By default 4 (3 labels + 1 for the background)\n",
        "    '''\n",
        "    super(UNet, self).__init__()\n",
        "    self.n_channels = n_channels\n",
        "    self.n_classes = n_classes\n",
        "    self.inc = ConvBatchNorm(n_channels, 64)\n",
        "    self.down1 = DownBlock(64, 128, nb_Conv=2)\n",
        "    self.down2 = DownBlock(128, 256, nb_Conv=2)\n",
        "    self.down3 = DownBlock(256, 512, nb_Conv=2)\n",
        "    self.down4 = DownBlock(512, 512, nb_Conv=2)\n",
        "    self.up1 = UpBlock(512+512, 512, nb_Conv=2, in_padding=0)\n",
        "    self.up2 = UpBlock(512+256, 256, nb_Conv=2)\n",
        "    self.up3 = UpBlock(256+128, 128, nb_Conv=2, in_padding=0, out_padding=0)\n",
        "    self.up4 = UpBlock(128+64, 64, nb_Conv=2, in_padding=0, out_padding=0)\n",
        "    self.outc = nn.Conv2d(64, n_classes, kernel_size=3, stride=1, padding=1)\n",
        "    self.last_activation = get_activation('Sigmoid')\n",
        "\n",
        "  def forward(self, x):\n",
        "    x1 = self.inc(x)\n",
        "    x2 = self.down1(x1)\n",
        "    x3 = self.down2(x2)\n",
        "    x4 = self.down3(x3)\n",
        "    x5 = self.down4(x4)\n",
        "    x = self.up1(x5, x4)\n",
        "    x = self.up2(x, x3)\n",
        "    x = self.up3(x, x2)\n",
        "    x = self.up4(x, x1)\n",
        "    logits = self.last_activation(self.outc(x))\n",
        "    return logits"
      ],
      "execution_count": 0,
      "outputs": []
    },
    {
      "cell_type": "code",
      "metadata": {
        "colab_type": "code",
        "id": "ktk3C0AWapYk",
        "outputId": "8de1b58a-7a2e-4aee-f67b-3b0d70d1ecd4",
        "colab": {
          "base_uri": "https://localhost:8080/",
          "height": 34
        }
      },
      "source": [
        "model = UNet(n_channels=92, n_classes=92)\n",
        "\n",
        "\n",
        "# Image of size 96*96 with 4 modality + batch size = 1\n",
        "x = torch.from_numpy(np.random.randn(1, 92, 92, 92)).float()\n",
        "y = model(x)\n",
        "print(y.shape)"
      ],
      "execution_count": 0,
      "outputs": [
        {
          "output_type": "stream",
          "text": [
            "torch.Size([1, 92, 92, 92])\n"
          ],
          "name": "stdout"
        }
      ]
    },
    {
      "cell_type": "code",
      "metadata": {
        "id": "fGEpQfORSkV_",
        "colab_type": "code",
        "colab": {}
      },
      "source": [
        "def train(model, train_loader, criterion, optimizer, n_epochs):\n",
        "    \"\"\"\n",
        "    Method used to train a CNN\n",
        "    \n",
        "    Args:\n",
        "        model: (nn.Module) the neural network\n",
        "        train_loader: (DataLoader) a DataLoader wrapping the dataset\n",
        "        criterion: (nn.Module) a method to compute the loss of a mini-batch of images\n",
        "        optimizer: (torch.optim) an optimization algorithm\n",
        "        n_epochs: (int) number of epochs performed during training\n",
        "\n",
        "    Returns:\n",
        "        best_model: (nn.Module) the trained neural network\n",
        "    \"\"\"\n",
        "    best_model = deepcopy(model)\n",
        "    train_best_loss = np.inf\n",
        "    batch_size = train_loader.batch_size\n",
        "    n = train_loader.dataset.clinical_data.shape[0]\n",
        "\n",
        "    n_batches = n//batch_size\n",
        "\n",
        "    for epoch in range(n_epochs):\n",
        "        model.train()\n",
        "        total_loss = 0\n",
        "        t0 = time()\n",
        "        for i, data in enumerate(train_loader):\n",
        "            images, masks = data['scan'], data['mask']\n",
        "            images, masks = images.cuda(), masks.cuda()\n",
        "            outputs = model(images)\n",
        "            loss = criterion(outputs.squeeze(), masks.squeeze())\n",
        "\n",
        "            optimizer.zero_grad()\n",
        "            loss.backward()\n",
        "            optimizer.step()\n",
        "\n",
        "            total_loss += loss.item()\n",
        "\n",
        "        mean_loss = total_loss / len(train_loader.dataset)\n",
        "        print('Epoch %i: loss = %f' % (epoch+1, mean_loss))\n",
        "\n",
        "        if mean_loss < train_best_loss:\n",
        "            best_model = deepcopy(model)\n",
        "            train_best_loss = mean_loss\n",
        "    \n",
        "    return best_model\n",
        "\n",
        "def test(model, data_loader, criterion):\n",
        "    \"\"\"\n",
        "    Method used to test a CNN\n",
        "    \n",
        "    Args:\n",
        "        model: (nn.Module) the neural network\n",
        "        data_loader: (DataLoader) a DataLoader wrapping a MRIDataset\n",
        "        criterion: (nn.Module) a method to compute the loss of a mini-batch of images\n",
        "    \n",
        "    Returns:\n",
        "        results_df: (DataFrame) the label predicted for on the slice level.\n",
        "        results_metrics: (dict) a set of metrics\n",
        "    \"\"\"\n",
        "    model.eval()\n",
        "    columns = [\"participant_id\", \"slice_id\", \"proba0\", \"proba1\",\n",
        "               \"true_label\", \"predicted_label\"]\n",
        "    results_df = pd.DataFrame(columns=columns)\n",
        "    total_loss = 0\n",
        "\n",
        "    batch_size = data_loader.batch_size\n",
        "    n = data_loader.dataset.clinical_data.shape[0]\n",
        "\n",
        "    n_batches = n//batch_size\n",
        "    \n",
        "    with torch.no_grad():\n",
        "        for i, data in enumerate(data_loader, 0):\n",
        "            images, masks = data['scan'], data['mask'] #unsqueeze(1)\n",
        "            images, masks = images.cuda(), masks.cuda()\n",
        "            outputs = model(images)\n",
        "            loss = criterion(outputs, masks)\n",
        "            total_loss += loss.item()\n",
        "            print(\"Batch {}/{} loss : {}\".format(i+1, n_batches, str(total_loss/((i+1)*batch_size))))\n",
        "\n",
        "    print(\"Final loss : {}\".format(str(total_loss/ len(data_loader.dataset))))\n",
        "\n",
        "\n",
        "def compute_metrics(ground_truth, prediction):\n",
        "    \"\"\"Computes the accuracy, sensitivity, specificity and balanced accuracy\"\"\"\n",
        "    tp = np.sum((prediction == 1) & (ground_truth == 1))\n",
        "    tn = np.sum((prediction == 0) & (ground_truth == 0))\n",
        "    fp = np.sum((prediction == 1) & (ground_truth == 0))\n",
        "    fn = np.sum((prediction == 0) & (ground_truth == 1))\n",
        "    \n",
        "    metrics_dict = dict()\n",
        "    metrics_dict['accuracy'] = (tp + tn) / (tp + tn + fp + fn)\n",
        "    \n",
        "    # Sensitivity\n",
        "    if tp + fn != 0:\n",
        "        metrics_dict['sensitivity'] = tp / (tp + fn)\n",
        "    else:\n",
        "        metrics_dict['sensitivity'] = 0.0\n",
        "        \n",
        "    # Specificity\n",
        "    if fp + tn != 0:\n",
        "        metrics_dict['specificity'] = tn / (fp + tn)\n",
        "    else:\n",
        "        metrics_dict['specificity'] = 0.0\n",
        "        \n",
        "    metrics_dict['balanced_accuracy'] = (metrics_dict['sensitivity'] + metrics_dict['specificity']) / 2\n",
        "    \n",
        "    return metrics_dict"
      ],
      "execution_count": 0,
      "outputs": []
    },
    {
      "cell_type": "code",
      "metadata": {
        "id": "QD1_RdrOx_0N",
        "colab_type": "code",
        "colab": {}
      },
      "source": [
        "def dice_loss(input, target):\n",
        "    smooth = 1.\n",
        "    target = target.float()\n",
        "    input = input.float()\n",
        "    input_flat = input.contiguous().view(-1)\n",
        "    target_flat = target.contiguous().view(-1)\n",
        "    intersection = (input_flat * target_flat).sum()\n",
        "    return 1 - ((2. * intersection + smooth)/(input_flat.pow(2).sum() + target_flat.pow(2).sum() + smooth))\n",
        "\n",
        "def mean_dice_loss(input, target):\n",
        "  \n",
        "  channels = list(range(target.shape[1]))\n",
        "  loss = 0\n",
        "  for channel in channels:\n",
        "    dice = dice_loss(input[:, channel, ...],\n",
        "                     target[:, channel, ...])\n",
        "    loss += dice\n",
        "\n",
        "  return loss / len(channels)"
      ],
      "execution_count": 0,
      "outputs": []
    },
    {
      "cell_type": "markdown",
      "metadata": {
        "id": "sjgPZlFUkMCv",
        "colab_type": "text"
      },
      "source": [
        "## Validating the model\n"
      ]
    },
    {
      "cell_type": "code",
      "metadata": {
        "id": "3vxiRvmjLtWf",
        "colab_type": "code",
        "colab": {}
      },
      "source": [
        "from sklearn.model_selection import train_test_split\n",
        "\n",
        "idx = [i for i in range(len(clinical_data_train))]\n",
        "idx_train, idx_val= train_test_split(idx,test_size = 0.2, random_state=42)\n",
        "\n",
        "clinical_data_for_train = clinical_data_train.iloc[idx_train]\n",
        "clinical_data_for_val = clinical_data_train.iloc[idx_val]\n",
        "\n",
        "radiomics_for_train = radiomics_train.iloc[idx_train]\n",
        "radiomics_for_val = radiomics_train.iloc[idx_val]\n",
        "\n",
        "output_for_train = output.iloc[idx_train]\n",
        "output_for_val = output.iloc[idx_val]\n",
        "\n",
        "batch_size=5\n",
        "dataset_train = OurDataset_train(Path_image_train, clinical_data_for_train, radiomics_for_train, output_for_train, transform=None)\n",
        "dataloader_train = DataLoader(dataset_train, batch_size=batch_size, drop_last=True)\n",
        "\n",
        "dataset_val = OurDataset_train(Path_image_train, clinical_data_for_val, radiomics_for_val,output_for_val, transform=None)\n",
        "dataloader_val = DataLoader(dataset_val, batch_size=batch_size, drop_last=True)"
      ],
      "execution_count": 0,
      "outputs": []
    },
    {
      "cell_type": "code",
      "metadata": {
        "id": "5uCytSZcQn6F",
        "colab_type": "code",
        "outputId": "b20e19c9-15d7-4192-f8b4-3312dd0f9dd2",
        "colab": {
          "base_uri": "https://localhost:8080/",
          "height": 272
        }
      },
      "source": [
        "learning_rate = 1e-4\n",
        "\n",
        "device = torch.device('cuda') if torch.cuda.is_available() else torch.device('cpu')\n",
        "\n",
        "\n",
        "model.to(device)\n",
        "\n",
        "criterion = nn.MSELoss()\n",
        "\n",
        "optimizer = torch.optim.Adam(model.parameters(), lr= learning_rate)\n",
        "n_epochs = 15\n",
        "\n",
        "model = train(model, dataloader_train, criterion, optimizer, n_epochs)"
      ],
      "execution_count": 0,
      "outputs": [
        {
          "output_type": "stream",
          "text": [
            "Epoch 1: loss = 0.005543\n",
            "Epoch 2: loss = 0.005303\n",
            "Epoch 3: loss = 0.005242\n",
            "Epoch 4: loss = 0.005048\n",
            "Epoch 5: loss = 0.004929\n",
            "Epoch 6: loss = 0.004730\n",
            "Epoch 7: loss = 0.004679\n",
            "Epoch 8: loss = 0.004604\n",
            "Epoch 9: loss = 0.004564\n",
            "Epoch 10: loss = 0.004378\n",
            "Epoch 11: loss = 0.004309\n",
            "Epoch 12: loss = 0.004297\n",
            "Epoch 13: loss = 0.004238\n",
            "Epoch 14: loss = 0.004161\n",
            "Epoch 15: loss = 0.004121\n"
          ],
          "name": "stdout"
        }
      ]
    },
    {
      "cell_type": "code",
      "metadata": {
        "id": "hE6n3apI8qwS",
        "colab_type": "code",
        "outputId": "1f0d3744-58bc-43d2-eef3-e7374ce371bb",
        "colab": {
          "base_uri": "https://localhost:8080/",
          "height": 238
        }
      },
      "source": [
        "test(model, dataloader_val, criterion)"
      ],
      "execution_count": 0,
      "outputs": [
        {
          "output_type": "stream",
          "text": [
            "Batch 1/12 loss : 0.027243173122406004\n",
            "Batch 2/12 loss : 0.024075818061828614\n",
            "Batch 3/12 loss : 0.02457034190495809\n",
            "Batch 4/12 loss : 0.02436426281929016\n",
            "Batch 5/12 loss : 0.02389596462249756\n",
            "Batch 6/12 loss : 0.023368197679519653\n",
            "Batch 7/12 loss : 0.023987512929098946\n",
            "Batch 8/12 loss : 0.022940579056739806\n",
            "Batch 9/12 loss : 0.022472508748372397\n",
            "Batch 10/12 loss : 0.02293136477470398\n",
            "Batch 11/12 loss : 0.02303732308474454\n",
            "Batch 12/12 loss : 0.022854134440422058\n",
            "Final loss : 0.022854134440422058\n"
          ],
          "name": "stdout"
        }
      ]
    },
    {
      "cell_type": "markdown",
      "metadata": {
        "id": "nZePVaZr9VwU",
        "colab_type": "text"
      },
      "source": [
        "## Making predictions and comparing with the ground truth"
      ]
    },
    {
      "cell_type": "code",
      "metadata": {
        "id": "6wEU48vvbucZ",
        "colab_type": "code",
        "outputId": "7d48d556-6527-4def-f53d-31e8266523ea",
        "colab": {
          "base_uri": "https://localhost:8080/",
          "height": 275
        }
      },
      "source": [
        "ex_archive = np.load(Path_image_train + 'patient_044.npz')\n",
        "scan = ex_archive['scan']\n",
        "mask = ex_archive['mask']\n",
        "\n",
        "example_mask = model(torch.from_numpy(scan).unsqueeze(0).type(torch.cuda.FloatTensor))\n",
        "\n",
        "slice_10_pred = example_mask.cpu().detach().numpy()[0,50,:,:].T\n",
        "slice_40_pred = example_mask.cpu().detach().numpy()[0,60,:,:].T\n",
        "slice_70_pred = example_mask.cpu().detach().numpy()[0,70,:,:].T\n",
        "\n",
        "slice_10_pred = (slice_10_pred>0.7).astype(float)\n",
        "slice_40_pred = (slice_40_pred>0.7).astype(float)\n",
        "slice_70_pred = (slice_70_pred>0.7).astype(float)\n",
        "\n",
        "mask_10 = mask[:,:,50]\n",
        "mask_40 = mask[:,:,60]\n",
        "mask_70 = mask[:,:,70]\n",
        "\n",
        "show_slices([mask_10,mask_40,mask_70])\n",
        "show_slices([slice_10_pred,slice_40_pred,slice_70_pred])"
      ],
      "execution_count": 0,
      "outputs": [
        {
          "output_type": "display_data",
          "data": {
            "image/png": "[encoded data removed]",
            "text/plain": [
              "<Figure size 432x288 with 3 Axes>"
            ]
          },
          "metadata": {
            "tags": []
          }
        },
        {
          "output_type": "display_data",
          "data": {
            "image/png": "[encoded data removed]",
            "text/plain": [
              "<Figure size 432x288 with 3 Axes>"
            ]
          },
          "metadata": {
            "tags": []
          }
        }
      ]
    },
    {
      "cell_type": "markdown",
      "metadata": {
        "id": "aUsrJtMMTe48",
        "colab_type": "text"
      },
      "source": [
        "## Training on all the data"
      ]
    },
    {
      "cell_type": "code",
      "metadata": {
        "id": "gb9KNOJlZeJR",
        "colab_type": "code",
        "colab": {}
      },
      "source": [
        "clinical_data_all = clinical_data_train.append(clinical_data_test)\n",
        "\n",
        "\n",
        "radiomics_all = radiomics_train.append(radiomics_test)\n",
        "\n",
        "Path_image_all = path + 'data_all/images/'\n",
        "\n",
        "batch_size=5\n",
        "\n",
        "dataset_all = OurDataset_all(Path_image_all, clinical_data_all, radiomics_all, transform=None)\n",
        "dataloader_all = DataLoader(dataset_all, batch_size=batch_size, drop_last=True)\n",
        "\n",
        "device = torch.device('cuda') if torch.cuda.is_available() else torch.device('cpu')\n",
        "\n",
        "model = UNet(n_channels=92, n_classes=92)\n",
        "\n",
        "model.to(device)\n",
        "\n",
        "learning_rate = 1e-6\n",
        "\n",
        "#criterion = mean_dice_loss\n",
        "criterion = nn.MSELoss()\n",
        "\n",
        "optimizer = torch.optim.Adam(model.parameters(), lr= learning_rate)\n",
        "\n",
        "n_epochs = 200\n",
        "\n",
        "model = train(model, dataloader_all, criterion, optimizer, n_epochs)"
      ],
      "execution_count": 0,
      "outputs": []
    },
    {
      "cell_type": "code",
      "metadata": {
        "id": "agxpigfqedjH",
        "colab_type": "code",
        "colab": {}
      },
      "source": [
        "torch.save(new_model.state_dict(), 'model_v6.pt')"
      ],
      "execution_count": 0,
      "outputs": []
    },
    {
      "cell_type": "markdown",
      "metadata": {
        "id": "Go39yM21bvzj",
        "colab_type": "text"
      },
      "source": [
        "## Loading model"
      ]
    },
    {
      "cell_type": "code",
      "metadata": {
        "id": "wcA73QA7cQu5",
        "colab_type": "code",
        "colab": {}
      },
      "source": [
        "model_path = '/content/drive/My Drive/DLMI/unet 2d/model_v5.pt'\n",
        "model = UNet(n_channels=92, n_classes=92)\n",
        "\n",
        "model.load_state_dict(torch.load(model_path, map_location=torch.device('cpu')))\n",
        "\n",
        "device = torch.device('cuda') if torch.cuda.is_available() else torch.device('cpu')\n",
        "\n",
        "model.to(device)"
      ],
      "execution_count": 0,
      "outputs": []
    },
    {
      "cell_type": "markdown",
      "metadata": {
        "id": "jM3vFfHemIge",
        "colab_type": "text"
      },
      "source": [
        "## Creating features"
      ]
    },
    {
      "cell_type": "code",
      "metadata": {
        "id": "Vcsc2WdV2cur",
        "colab_type": "code",
        "colab": {}
      },
      "source": [
        "class Encoder(nn.Module):\n",
        "  def __init__(self, model):\n",
        "    super(Encoder, self).__init__()\n",
        "    layers = []\n",
        "    layers.append(model.inc)\n",
        "    layers.append(model.down1)\n",
        "    layers.append(model.down2)\n",
        "    layers.append(model.down3)\n",
        "    layers.append(model.down4)\n",
        "    layers.append(nn.Flatten())\n",
        "    self.encoder = nn.Sequential(*layers)\n",
        "\n",
        "  def forward(self, x):\n",
        "    return self.encoder(x)"
      ],
      "execution_count": 0,
      "outputs": []
    },
    {
      "cell_type": "code",
      "metadata": {
        "id": "n4XIJKP0m0v2",
        "colab_type": "code",
        "colab": {}
      },
      "source": [
        "encoder = Encoder(model)"
      ],
      "execution_count": 0,
      "outputs": []
    },
    {
      "cell_type": "code",
      "metadata": {
        "id": "B705X-AUtqAc",
        "colab_type": "code",
        "colab": {}
      },
      "source": [
        "def encode(encoder, loader):\n",
        "  df = pd.DataFrame()\n",
        "  for data in loader:\n",
        "    images, masks = data['scan'], data['mask']\n",
        "    images, masks = images.cuda(), masks.cuda()\n",
        "    features = encoder(images)\n",
        "    features = features.detach().cpu().numpy()\n",
        "    df = df.append(pd.DataFrame(features))\n",
        "  return df"
      ],
      "execution_count": 0,
      "outputs": []
    },
    {
      "cell_type": "code",
      "metadata": {
        "id": "X7H1pBzIm3Dy",
        "colab_type": "code",
        "colab": {}
      },
      "source": [
        "dataset_all_train = OurDataset_train(Path_image_train, clinical_data_train, radiomics_train,output, transform=None)\n",
        "dataloader_all_train = DataLoader(dataset_all_train, batch_size=batch_size, drop_last=True)\n",
        "\n",
        "df_encoded_train = encode(encoder, dataloader_all_train)"
      ],
      "execution_count": 0,
      "outputs": []
    },
    {
      "cell_type": "code",
      "metadata": {
        "id": "bx1haKGZm3Gv",
        "colab_type": "code",
        "colab": {}
      },
      "source": [
        "dataset_all_test = OurDataset_test(Path_image_test, clinical_data_test, radiomics_test, transform=None)\n",
        "dataloader_all_test = DataLoader(dataset_all_test, batch_size=batch_size, drop_last=False)\n",
        "\n",
        "df_encoded_test = encode(encoder, dataloader_all_test)"
      ],
      "execution_count": 0,
      "outputs": []
    },
    {
      "cell_type": "code",
      "metadata": {
        "id": "_ZC2FuFPmbed",
        "colab_type": "code",
        "colab": {}
      },
      "source": [
        "df_encoded_train.to_csv(\"features_train_v6.csv\")\n",
        "df_encoded_test.to_csv(\"features_test_v6.csv\")\n",
        "!cp -t '/content/drive/My Drive/DLMI/unet 2d' features_train_v6.csv\n",
        "!cp -t '/content/drive/My Drive/DLMI/unet 2d' features_test_v6.csv"
      ],
      "execution_count": 0,
      "outputs": []
    },
    {
      "cell_type": "markdown",
      "metadata": {
        "id": "j6ORkRAnZ1hh",
        "colab_type": "text"
      },
      "source": [
        "## Model engineering"
      ]
    },
    {
      "cell_type": "code",
      "metadata": {
        "id": "6_UyXjdF88IN",
        "colab_type": "code",
        "outputId": "04b4ee12-e28e-4393-d8c1-81eb599aa40d",
        "colab": {
          "base_uri": "https://localhost:8080/",
          "height": 646
        }
      },
      "source": [
        "!pip install catboost\n",
        "!pip install https://github.com/scikit-learn-contrib/scikit-learn-extra/archive/master.zip"
      ],
      "execution_count": 0,
      "outputs": [
        {
          "output_type": "stream",
          "text": [
            "Collecting catboost\n",
            "\u001b[?25l  Downloading https://files.pythonhosted.org/packages/94/ec/12b9a42b2ea7dfe5b602f235692ab2b61ee1334ff34334a15902272869e8/catboost-0.22-cp36-none-manylinux1_x86_64.whl (64.4MB)\n",
            "\u001b[K     |████████████████████████████████| 64.4MB 71kB/s \n",
            "\u001b[?25hRequirement already satisfied: six in /usr/local/lib/python3.6/dist-packages (from catboost) (1.12.0)\n",
            "Requirement already satisfied: plotly in /usr/local/lib/python3.6/dist-packages (from catboost) (4.4.1)\n",
            "Requirement already satisfied: matplotlib in /usr/local/lib/python3.6/dist-packages (from catboost) (3.2.1)\n",
            "Requirement already satisfied: numpy>=1.16.0 in /usr/local/lib/python3.6/dist-packages (from catboost) (1.18.2)\n",
            "Requirement already satisfied: pandas>=0.24.0 in /usr/local/lib/python3.6/dist-packages (from catboost) (0.25.3)\n",
            "Requirement already satisfied: scipy in /usr/local/lib/python3.6/dist-packages (from catboost) (1.4.1)\n",
            "Requirement already satisfied: graphviz in /usr/local/lib/python3.6/dist-packages (from catboost) (0.10.1)\n",
            "Requirement already satisfied: retrying>=1.3.3 in /usr/local/lib/python3.6/dist-packages (from plotly->catboost) (1.3.3)\n",
            "Requirement already satisfied: python-dateutil>=2.1 in /usr/local/lib/python3.6/dist-packages (from matplotlib->catboost) (2.8.1)\n",
            "Requirement already satisfied: pyparsing!=2.0.4,!=2.1.2,!=2.1.6,>=2.0.1 in /usr/local/lib/python3.6/dist-packages (from matplotlib->catboost) (2.4.6)\n",
            "Requirement already satisfied: cycler>=0.10 in /usr/local/lib/python3.6/dist-packages (from matplotlib->catboost) (0.10.0)\n",
            "Requirement already satisfied: kiwisolver>=1.0.1 in /usr/local/lib/python3.6/dist-packages (from matplotlib->catboost) (1.1.0)\n",
            "Requirement already satisfied: pytz>=2017.2 in /usr/local/lib/python3.6/dist-packages (from pandas>=0.24.0->catboost) (2018.9)\n",
            "Requirement already satisfied: setuptools in /usr/local/lib/python3.6/dist-packages (from kiwisolver>=1.0.1->matplotlib->catboost) (46.0.0)\n",
            "Installing collected packages: catboost\n",
            "Successfully installed catboost-0.22\n",
            "Collecting https://github.com/scikit-learn-contrib/scikit-learn-extra/archive/master.zip\n",
            "\u001b[?25l  Downloading https://github.com/scikit-learn-contrib/scikit-learn-extra/archive/master.zip\n",
            "\u001b[K     \\ 1.3MB 1.8MB/s\n",
            "\u001b[?25h  Installing build dependencies ... \u001b[?25l\u001b[?25hdone\n",
            "  Getting requirements to build wheel ... \u001b[?25l\u001b[?25hdone\n",
            "    Preparing wheel metadata ... \u001b[?25l\u001b[?25hdone\n",
            "Requirement already satisfied: scikit-learn in /usr/local/lib/python3.6/dist-packages (from sklearn-extra==0.0.3) (0.22.2.post1)\n",
            "Requirement already satisfied: cython in /usr/local/lib/python3.6/dist-packages (from sklearn-extra==0.0.3) (0.29.15)\n",
            "Requirement already satisfied: numpy in /usr/local/lib/python3.6/dist-packages (from sklearn-extra==0.0.3) (1.18.2)\n",
            "Requirement already satisfied: scipy in /usr/local/lib/python3.6/dist-packages (from sklearn-extra==0.0.3) (1.4.1)\n",
            "Requirement already satisfied: joblib>=0.11 in /usr/local/lib/python3.6/dist-packages (from scikit-learn->sklearn-extra==0.0.3) (0.14.1)\n",
            "Building wheels for collected packages: sklearn-extra\n",
            "  Building wheel for sklearn-extra (PEP 517) ... \u001b[?25l\u001b[?25hdone\n",
            "  Created wheel for sklearn-extra: filename=sklearn_extra-0.0.3-cp36-cp36m-linux_x86_64.whl size=346265 sha256=1f747a96985779ccf1104a17b623c626517172bf00b3f9032a11364cf8441dfa\n",
            "  Stored in directory: /tmp/pip-ephem-wheel-cache-kvgk_ypn/wheels/d3/a5/a8/411bc2d0939f2cc9d17f34f0d3457043c68e14a98b91fd8301\n",
            "Successfully built sklearn-extra\n",
            "Installing collected packages: sklearn-extra\n",
            "Successfully installed sklearn-extra-0.0.3\n"
          ],
          "name": "stdout"
        }
      ]
    },
    {
      "cell_type": "code",
      "metadata": {
        "id": "q-9cwNWg8uNM",
        "colab_type": "code",
        "colab": {}
      },
      "source": [
        "from sklearn.decomposition import PCA\n",
        "from sklearn.preprocessing import StandardScaler\n",
        "from sklearn.model_selection import train_test_split\n",
        "from sklearn.model_selection import KFold\n",
        "from sklearn.linear_model import Lasso\n",
        "from sklearn_extra.cluster import KMedoids\n",
        "from sklearn.preprocessing import LabelEncoder\n",
        "\n",
        "from xgboost import XGBRegressor\n",
        "\n",
        "import numpy as np\n",
        "import pandas as pd\n",
        "import warnings\n",
        "import seaborn as sns\n",
        "\n",
        "from catboost import CatBoostRegressor\n",
        "from catboost import CatBoostClassifier\n",
        "\n",
        "from sklearn.cluster import FeatureAgglomeration\n",
        "import itertools"
      ],
      "execution_count": 0,
      "outputs": []
    },
    {
      "cell_type": "code",
      "metadata": {
        "id": "sdcgQ0SG8pHg",
        "colab_type": "code",
        "colab": {}
      },
      "source": [
        "# the score function\n",
        "\n",
        "def cindex(y_true_times, predicted_times, tol=1e-8):\n",
        "    \"\"\"\n",
        "    Author: Romuald Menuet & Rémy Dubois\n",
        "\n",
        "    Evaluate concordance index from Pandas DataFrame, taking ties into account.\n",
        "\n",
        "    Args:\n",
        "        y_true_times: pd.DataFrame\n",
        "            pd DataFrame with three columns: `PatientID`, `Event` and `SurvivalTime` the float-valued column of true survival times.\n",
        "        predicted_times: pd.DataFrame\n",
        "            pd DataFrame with three columns: `PatientID`, `SurvivalTime` the float-valued column of predicted survival times,\n",
        "            and one `Event`column, whose value does not matter. It must be appended so that target and predictions have the same format.\n",
        "        tol: float\n",
        "            small float value for numerical stability.\n",
        "    Returns:\n",
        "        Concordance index, as described here:\n",
        "        https://square.github.io/pysurvival/metrics/c_index.html\n",
        "    \"\"\"\n",
        "\n",
        "    assert isinstance(y_true_times, pd.DataFrame), 'Y true times should be pd dataframe with `PatientID` as index, and `Event` and `SurvivalTime` as columns'\n",
        "    assert isinstance(predicted_times, pd.DataFrame), 'Predicted times should be pd dataframe with patient `PatientID` as index, and `Event` and `SurvivalTime` as columns'\n",
        "    assert len(y_true_times.shape) == 2, 'Y true times should be pd dataframe with `PatientID` as index, and `Event` and `SurvivalTime` as columns'\n",
        "    assert len(predicted_times.shape) == 2, 'Predicted times should be pd dataframe with `PatientID` as index, and `Event` and `SurvivalTime` as columns'\n",
        "    assert set(y_true_times.columns) == {'Event', 'SurvivalTime'}, 'Y true times should be pd dataframe with `PatientID` as index, and `Event` and `SurvivalTime` as columns'\n",
        "    assert set(predicted_times.columns) == {'Event', 'SurvivalTime'}, 'Predicted times should be pd dataframe with `PatientID` as index, and `Event` and `SurvivalTime` as columns'\n",
        "    np.testing.assert_equal(y_true_times.shape, predicted_times.shape, err_msg=\"Not same amount of predicted versus true samples\")\n",
        "    assert set(y_true_times.index) == set(predicted_times.index), 'Not same patients in prediction versus ground truth'\n",
        "    assert np.all(predicted_times['SurvivalTime'] > 0), 'Predicted times should all be positive'\n",
        "\n",
        "    events = y_true_times.Event\n",
        "    y_true_times = y_true_times.SurvivalTime\n",
        "    predicted_times = predicted_times.SurvivalTime\n",
        "\n",
        "    # Just ordering the right way\n",
        "    predicted_times = predicted_times.loc[y_true_times.index]\n",
        "    events = events.loc[y_true_times.index]\n",
        "\n",
        "    events = events.values.astype(int)\n",
        "    y_true_times = y_true_times.values.astype(float)\n",
        "    predicted_times = predicted_times.values.astype(float)\n",
        "\n",
        "    np.testing.assert_array_less(1.,\n",
        "                                 predicted_times.astype(float),\n",
        "                                 err_msg=\"Predicted y_true_times all below 1.\\\n",
        "                                 It should be in days. Make sure that you are not predicting risk instead of time.\")\n",
        "\n",
        "    return _cindex_np(y_true_times, predicted_times, events)\n",
        "\n",
        "\n",
        "def _cindex_np(times, predicted_times, events, tol=1.e-8):\n",
        "    \"\"\"\n",
        "    Raw CI computation from np arrray. Should not be used as is.\n",
        "    \"\"\"\n",
        "    assert times.ndim == predicted_times.ndim == events.ndim == 1, \"wrong input, should be vectors only\"\n",
        "    assert times.shape[0] == predicted_times.shape[0] == events.shape[0], \"wrong input, should be vectors of the same len\"\n",
        "\n",
        "    risks = - predicted_times\n",
        "\n",
        "    risks_i = risks.reshape((-1, 1))\n",
        "    risks_j = risks.reshape((1, -1))\n",
        "    times_i = times.reshape((-1, 1))\n",
        "    times_j = times.reshape((1, -1))\n",
        "    events_i = events.reshape((-1, 1))\n",
        "\n",
        "    eligible_pairs = (times_i < times_j) * events_i\n",
        "\n",
        "    well_ordered = np.sum(eligible_pairs * (risks_i > risks_j))\n",
        "    ties = + np.sum(eligible_pairs * 0.5 * (risks_i == risks_j))\n",
        "\n",
        "    return (well_ordered + ties) / (eligible_pairs.sum() + tol)"
      ],
      "execution_count": 0,
      "outputs": []
    },
    {
      "cell_type": "code",
      "metadata": {
        "id": "Y2i1QaDN9deH",
        "colab_type": "code",
        "colab": {}
      },
      "source": [
        "df_encoded_train = pd.read_csv('/content/drive/My Drive/DLMI/unet 2d/features_train_v5.csv').iloc[:,1:]\n",
        "df_encoded_test = pd.read_csv('/content/drive/My Drive/DLMI/unet 2d/features_test_v5.csv').iloc[:,1:]"
      ],
      "execution_count": 0,
      "outputs": []
    },
    {
      "cell_type": "code",
      "metadata": {
        "id": "Oq2DnOp2-8ln",
        "colab_type": "code",
        "colab": {}
      },
      "source": [
        "def train_model_and_validate_catboost(parameters, df_train_all, output):\n",
        "\n",
        "  kfold = KFold(n_splits = 5, shuffle=True)\n",
        "  iterations = parameters['iterations']\n",
        "  lr = parameters['l_rate']\n",
        "  depth = parameters['depth']\n",
        "  l2_reg = parameters['l2']\n",
        "\n",
        "  score = 0\n",
        "\n",
        "  for train_ind, test_ind in kfold.split(df_train_all):\n",
        "\n",
        "    x_train, x_val = df_train_all.iloc[train_ind], df_train_all.iloc[test_ind]\n",
        "    y_train, y_val = output.iloc[train_ind], output.iloc[test_ind]\n",
        "\n",
        "    model = CatBoostRegressor(iterations=iterations, learning_rate=lr,\\\n",
        "                              depth=depth, l2_leaf_reg=l2_reg)\n",
        "\n",
        "    model.fit(x_train, y_train[\"SurvivalTime\"], verbose=0)\n",
        "\n",
        "    y_test_survivaltime = model.predict(x_val)\n",
        "    y_test_survivaltime = np.clip(y_test_survivaltime, 0, np.inf)\n",
        "\n",
        "    y_predicted = pd.DataFrame({'SurvivalTime':y_test_survivaltime, 'Event':y_val.Event}, index = y_val.index)\n",
        "\n",
        "    score += cindex(y_val, y_predicted)\n",
        " \n",
        "  return score/5"
      ],
      "execution_count": 0,
      "outputs": []
    },
    {
      "cell_type": "code",
      "metadata": {
        "id": "0TxN2u3iK7qT",
        "colab_type": "code",
        "colab": {}
      },
      "source": [
        "def train_model_and_validate_xgb(parameters, df_train_all, output):\n",
        "\n",
        "  kfold = KFold(n_splits = 5)\n",
        "\n",
        "  iterations = parameters['iterations']\n",
        "  lr = parameters['l_rate']\n",
        "  depth = parameters['depth']\n",
        "  l1 = parameters['l1_reg']\n",
        "  l2 = parameters['l2_reg']\n",
        "\n",
        "  score = 0\n",
        "\n",
        "  for train_ind, test_ind in kfold.split(df_train_all):\n",
        "\n",
        "    x_train, x_val = df_train_all.iloc[train_ind], df_train_all.iloc[test_ind]\n",
        "    y_train, y_val = output.iloc[train_ind], output.iloc[test_ind]\n",
        "\n",
        "    model = XGBRegressor(n_estimators=iterations,max_depth=depth, learning_rate=lr,\n",
        "                         reg_alpha = l1, reg_lambda = l2, verbosity=0)\n",
        "\n",
        "    model.fit(x_train, y_train[\"SurvivalTime\"], verbose=0)\n",
        "\n",
        "    y_test_survivaltime = model.predict(x_val)\n",
        "    y_test_survivaltime = np.clip(y_test_survivaltime, 0, np.inf)\n",
        "\n",
        "    y_predicted = pd.DataFrame({'SurvivalTime':y_test_survivaltime, 'Event':y_val.Event}, index = y_val.index)\n",
        "\n",
        "    score += cindex(y_val, y_predicted)\n",
        " \n",
        "  return score/5"
      ],
      "execution_count": 0,
      "outputs": []
    },
    {
      "cell_type": "markdown",
      "metadata": {
        "id": "YlktM9zmOy11",
        "colab_type": "text"
      },
      "source": [
        "### Evaluating the U-NET features performance"
      ]
    },
    {
      "cell_type": "code",
      "metadata": {
        "id": "3bWYHsil8V8Q",
        "colab_type": "code",
        "colab": {}
      },
      "source": [
        "le  = LabelEncoder()\n",
        "clinical_encoded_train = clinical_data_train[:]\n",
        "clinical_encoded_test = clinical_data_test[:]\n",
        "\n",
        "clinical_encoded_train['Histology'] = le.fit_transform(clinical_encoded_train['Histology'].astype(str).values)\n",
        "clinical_encoded_test['Histology'] = le.transform(clinical_encoded_test['Histology'].astype(str).values)\n",
        "\n",
        "le  = LabelEncoder()\n",
        "clinical_encoded_train['SourceDataset'] = le.fit_transform(clinical_encoded_train['SourceDataset'].astype(str).values)\n",
        "clinical_encoded_test['SourceDataset'] = le.transform(clinical_encoded_test['SourceDataset'].astype(str).values)"
      ],
      "execution_count": 0,
      "outputs": []
    },
    {
      "cell_type": "code",
      "metadata": {
        "id": "fBzaJS2mJgVv",
        "colab_type": "code",
        "colab": {}
      },
      "source": [
        "cindex_radiomic = []\n",
        "cindex_clinical = []\n",
        "cindex_features = []\n",
        "\n",
        "n_pca = 10\n",
        "\n",
        "pca = PCA(n_pca)\n",
        "\n",
        "scaler = StandardScaler()\n",
        "\n",
        "df_train_scaled = scaler.fit_transform(df_encoded_train)\n",
        "\n",
        "df_train_pca = pca.fit_transform(df_train_scaled)\n",
        "\n",
        "df_train_pca = pd.DataFrame(df_train_pca)\n",
        "df_train_pca.index = radiomics_train.index\n",
        "\n",
        "iterr = 72\n",
        "lr = 0.027\n",
        "depth = 3\n",
        "l1 = 162\n",
        "l2 = 10.5\n",
        "params = {'iterations':iterr, 'l_rate':lr, 'depth':depth, 'l2':l2}\n",
        "\n",
        "for _ in range(30):\n",
        "  \n",
        "  score_radiomics = train_model_and_validate_catboost(params,  radiomics_train, output)\n",
        "  score_clinical = train_model_and_validate_catboost(params,  clinical_encoded_train, output)\n",
        "  score_features = train_model_and_validate_catboost(params,  df_train_pca, output)\n",
        "\n",
        "  cindex_radiomic.append(score_radiomics)\n",
        "  cindex_clinical.append(score_clinical)\n",
        "  cindex_features.append(score_features)\n",
        "\n",
        "final_result = pd.DataFrame({'radiomics':cindex_radiomic, 'clinical': cindex_clinical, 'features': cindex_features})"
      ],
      "execution_count": 0,
      "outputs": []
    },
    {
      "cell_type": "code",
      "metadata": {
        "id": "IqugRB_vOCt-",
        "colab_type": "code",
        "outputId": "d4dcb73f-1739-4c87-e76a-c7450b489f71",
        "colab": {
          "base_uri": "https://localhost:8080/",
          "height": 500
        }
      },
      "source": [
        "fig, ax = plt.subplots(figsize=(10,8))\n",
        "\n",
        "sns.violinplot(data = final_result)"
      ],
      "execution_count": 0,
      "outputs": [
        {
          "output_type": "execute_result",
          "data": {
            "text/plain": [
              "<matplotlib.axes._subplots.AxesSubplot at 0x7f019c949b00>"
            ]
          },
          "metadata": {
            "tags": []
          },
          "execution_count": 39
        },
        {
          "output_type": "display_data",
          "data": {
            "image/png": "[encoded data removed]",
            "text/plain": [
              "<Figure size 720x576 with 1 Axes>"
            ]
          },
          "metadata": {
            "tags": []
          }
        }
      ]
    },
    {
      "cell_type": "markdown",
      "metadata": {
        "id": "nbKhKBi399It",
        "colab_type": "text"
      },
      "source": [
        "### First try with KMeans clustering"
      ]
    },
    {
      "cell_type": "code",
      "metadata": {
        "id": "jAugD_ltCT6G",
        "colab_type": "code",
        "outputId": "504bced7-2781-43fd-c9b4-7116f3fdaa74",
        "colab": {
          "base_uri": "https://localhost:8080/",
          "height": 34
        }
      },
      "source": [
        "list_iterations = [100]\n",
        "list_lr = [0.005]\n",
        "list_depth = [3 ]\n",
        "list_l2 = [0.6]\n",
        "list_clusters = [100]\n",
        "\n",
        "scaler = StandardScaler()\n",
        "\n",
        "df_train_scaled = scaler.fit_transform(df_encoded_train)\n",
        "df_test_scaled = scaler.transform(df_encoded_test)\n",
        "\n",
        "\n",
        "\n",
        "df_score = pd.DataFrame(columns=['iterations', 'learning_rate', 'depth', 'l2_reg', 'n_clusters', 'score'])\n",
        "\n",
        "\n",
        "for cluster in list_clusters:\n",
        "  agglo = FeatureAgglomeration(n_clusters = cluster)\n",
        "\n",
        "  agglo.fit(np.concatenate((df_train_scaled, df_test_scaled), axis=0))\n",
        "\n",
        "  df_encoded_train_clustered = agglo.transform(df_train_scaled)\n",
        "  df_encoded_test_clustered = agglo.transform(df_test_scaled)\n",
        "\n",
        "  df_encoded_train_clustered = pd.DataFrame(df_encoded_train_clustered)\n",
        "  df_encoded_train_clustered.index = radiomics_train.index\n",
        "  df_encoded_test_clustered = pd.DataFrame(df_encoded_test_clustered)\n",
        "  df_encoded_test_clustered.index = radiomics_test.index\n",
        "\n",
        "  df_train_all = df_encoded_train_clustered.join(radiomics_train).join(clinical_data_train)\n",
        "  df_test_all = df_encoded_test_clustered.join(radiomics_test).join(clinical_data_test)\n",
        "\n",
        "  for iterr, lr, depth, l2 in itertools.product(list_iterations, list_lr, list_depth, list_l2):\n",
        "\n",
        "    \n",
        "\n",
        "    params = {'iterations':iterr,  'l_rate':lr, 'depth':depth, 'l2':l2}\n",
        "    score = train_model_and_validate_catboost(params,  df_train_all, output)\n",
        "    df_score = df_score.append([{'iterations':iterr,  'learning_rate':lr, 'depth':depth, 'l2_reg':l2, 'n_clusters':cluster , 'score':score}])\n",
        "    print(score)"
      ],
      "execution_count": 0,
      "outputs": [
        {
          "output_type": "stream",
          "text": [
            "0.6622624310203886\n"
          ],
          "name": "stdout"
        }
      ]
    },
    {
      "cell_type": "code",
      "metadata": {
        "id": "dD4Ki5XEN8h7",
        "colab_type": "code",
        "outputId": "8abde137-8e29-4509-9128-4e64e8b65a5b",
        "colab": {
          "base_uri": "https://localhost:8080/",
          "height": 359
        }
      },
      "source": [
        "df_score.sort_values(by=['score'], ascending=False).head(10)"
      ],
      "execution_count": 0,
      "outputs": [
        {
          "output_type": "execute_result",
          "data": {
            "text/html": [
              "<div>\n",
              "<style scoped>\n",
              "    .dataframe tbody tr th:only-of-type {\n",
              "        vertical-align: middle;\n",
              "    }\n",
              "\n",
              "    .dataframe tbody tr th {\n",
              "        vertical-align: top;\n",
              "    }\n",
              "\n",
              "    .dataframe thead th {\n",
              "        text-align: right;\n",
              "    }\n",
              "</style>\n",
              "<table border=\"1\" class=\"dataframe\">\n",
              "  <thead>\n",
              "    <tr style=\"text-align: right;\">\n",
              "      <th></th>\n",
              "      <th>iterations</th>\n",
              "      <th>learning_rate</th>\n",
              "      <th>depth</th>\n",
              "      <th>l2_reg</th>\n",
              "      <th>n_clusters</th>\n",
              "      <th>score</th>\n",
              "    </tr>\n",
              "  </thead>\n",
              "  <tbody>\n",
              "    <tr>\n",
              "      <th>0</th>\n",
              "      <td>100</td>\n",
              "      <td>0.005</td>\n",
              "      <td>3</td>\n",
              "      <td>0.6</td>\n",
              "      <td>100</td>\n",
              "      <td>0.673982</td>\n",
              "    </tr>\n",
              "    <tr>\n",
              "      <th>0</th>\n",
              "      <td>100</td>\n",
              "      <td>0.005</td>\n",
              "      <td>3</td>\n",
              "      <td>1.0</td>\n",
              "      <td>100</td>\n",
              "      <td>0.672630</td>\n",
              "    </tr>\n",
              "    <tr>\n",
              "      <th>0</th>\n",
              "      <td>120</td>\n",
              "      <td>0.005</td>\n",
              "      <td>3</td>\n",
              "      <td>0.6</td>\n",
              "      <td>100</td>\n",
              "      <td>0.672591</td>\n",
              "    </tr>\n",
              "    <tr>\n",
              "      <th>0</th>\n",
              "      <td>100</td>\n",
              "      <td>0.005</td>\n",
              "      <td>3</td>\n",
              "      <td>2.0</td>\n",
              "      <td>100</td>\n",
              "      <td>0.671182</td>\n",
              "    </tr>\n",
              "    <tr>\n",
              "      <th>0</th>\n",
              "      <td>80</td>\n",
              "      <td>0.005</td>\n",
              "      <td>3</td>\n",
              "      <td>0.6</td>\n",
              "      <td>100</td>\n",
              "      <td>0.671129</td>\n",
              "    </tr>\n",
              "    <tr>\n",
              "      <th>0</th>\n",
              "      <td>100</td>\n",
              "      <td>0.010</td>\n",
              "      <td>3</td>\n",
              "      <td>1.0</td>\n",
              "      <td>100</td>\n",
              "      <td>0.670694</td>\n",
              "    </tr>\n",
              "    <tr>\n",
              "      <th>0</th>\n",
              "      <td>80</td>\n",
              "      <td>0.005</td>\n",
              "      <td>3</td>\n",
              "      <td>1.0</td>\n",
              "      <td>100</td>\n",
              "      <td>0.670263</td>\n",
              "    </tr>\n",
              "    <tr>\n",
              "      <th>0</th>\n",
              "      <td>120</td>\n",
              "      <td>0.005</td>\n",
              "      <td>3</td>\n",
              "      <td>2.0</td>\n",
              "      <td>100</td>\n",
              "      <td>0.669570</td>\n",
              "    </tr>\n",
              "    <tr>\n",
              "      <th>0</th>\n",
              "      <td>120</td>\n",
              "      <td>0.005</td>\n",
              "      <td>3</td>\n",
              "      <td>1.0</td>\n",
              "      <td>100</td>\n",
              "      <td>0.669471</td>\n",
              "    </tr>\n",
              "    <tr>\n",
              "      <th>0</th>\n",
              "      <td>100</td>\n",
              "      <td>0.001</td>\n",
              "      <td>3</td>\n",
              "      <td>2.0</td>\n",
              "      <td>100</td>\n",
              "      <td>0.669264</td>\n",
              "    </tr>\n",
              "  </tbody>\n",
              "</table>\n",
              "</div>"
            ],
            "text/plain": [
              "  iterations  learning_rate depth  l2_reg n_clusters     score\n",
              "0        100          0.005     3     0.6        100  0.673982\n",
              "0        100          0.005     3     1.0        100  0.672630\n",
              "0        120          0.005     3     0.6        100  0.672591\n",
              "0        100          0.005     3     2.0        100  0.671182\n",
              "0         80          0.005     3     0.6        100  0.671129\n",
              "0        100          0.010     3     1.0        100  0.670694\n",
              "0         80          0.005     3     1.0        100  0.670263\n",
              "0        120          0.005     3     2.0        100  0.669570\n",
              "0        120          0.005     3     1.0        100  0.669471\n",
              "0        100          0.001     3     2.0        100  0.669264"
            ]
          },
          "metadata": {
            "tags": []
          },
          "execution_count": 290
        }
      ]
    },
    {
      "cell_type": "code",
      "metadata": {
        "id": "1kD_3G6SzsxX",
        "colab_type": "code",
        "outputId": "de1c987a-f3bd-47f6-fd7c-b3d4260baab3",
        "colab": {
          "base_uri": "https://localhost:8080/",
          "height": 204
        }
      },
      "source": [
        "df_score.groupby(['learning_rate']).mean()"
      ],
      "execution_count": 0,
      "outputs": [
        {
          "output_type": "execute_result",
          "data": {
            "text/html": [
              "<div>\n",
              "<style scoped>\n",
              "    .dataframe tbody tr th:only-of-type {\n",
              "        vertical-align: middle;\n",
              "    }\n",
              "\n",
              "    .dataframe tbody tr th {\n",
              "        vertical-align: top;\n",
              "    }\n",
              "\n",
              "    .dataframe thead th {\n",
              "        text-align: right;\n",
              "    }\n",
              "</style>\n",
              "<table border=\"1\" class=\"dataframe\">\n",
              "  <thead>\n",
              "    <tr style=\"text-align: right;\">\n",
              "      <th></th>\n",
              "      <th>l2_reg</th>\n",
              "      <th>score</th>\n",
              "    </tr>\n",
              "    <tr>\n",
              "      <th>learning_rate</th>\n",
              "      <th></th>\n",
              "      <th></th>\n",
              "    </tr>\n",
              "  </thead>\n",
              "  <tbody>\n",
              "    <tr>\n",
              "      <th>0.001</th>\n",
              "      <td>0.65</td>\n",
              "      <td>0.657259</td>\n",
              "    </tr>\n",
              "    <tr>\n",
              "      <th>0.005</th>\n",
              "      <td>0.65</td>\n",
              "      <td>0.665342</td>\n",
              "    </tr>\n",
              "    <tr>\n",
              "      <th>0.010</th>\n",
              "      <td>0.65</td>\n",
              "      <td>0.650531</td>\n",
              "    </tr>\n",
              "    <tr>\n",
              "      <th>0.020</th>\n",
              "      <td>0.65</td>\n",
              "      <td>0.664337</td>\n",
              "    </tr>\n",
              "  </tbody>\n",
              "</table>\n",
              "</div>"
            ],
            "text/plain": [
              "               l2_reg     score\n",
              "learning_rate                  \n",
              "0.001            0.65  0.657259\n",
              "0.005            0.65  0.665342\n",
              "0.010            0.65  0.650531\n",
              "0.020            0.65  0.664337"
            ]
          },
          "metadata": {
            "tags": []
          },
          "execution_count": 67
        }
      ]
    },
    {
      "cell_type": "code",
      "metadata": {
        "id": "k-DC111jvQLQ",
        "colab_type": "code",
        "colab": {}
      },
      "source": [
        "agglo = FeatureAgglomeration(n_clusters = 100)\n",
        "\n",
        "agglo.fit(np.concatenate((df_train_scaled, df_test_scaled), axis=0))\n",
        "\n",
        "df_encoded_train_clustered = agglo.transform(df_train_scaled)\n",
        "df_encoded_test_clustered = agglo.transform(df_test_scaled)\n",
        "\n",
        "df_encoded_train_clustered = pd.DataFrame(df_encoded_train_clustered)\n",
        "df_encoded_train_clustered.index = radiomics_train.index\n",
        "df_encoded_test_clustered = pd.DataFrame(df_encoded_test_clustered)\n",
        "df_encoded_test_clustered.index = radiomics_test.index\n",
        "\n",
        "df_train_all = df_encoded_train_clustered.join(radiomics_train).join(clinical_data_train)\n",
        "df_test_all = df_encoded_test_clustered.join(radiomics_test).join(clinical_data_test)\n",
        "\n",
        "\n",
        "model = CatBoostRegressor(iterations=100, learning_rate=0.005,\\\n",
        "                          depth=3, l2_leaf_reg=0.6)\n",
        "\n",
        "model.fit(df_train_all, output[\"SurvivalTime\"], verbose=0)\n",
        "\n",
        "y_test = model.predict(df_test_all)\n",
        "\n",
        "submission_ex[\"SurvivalTime\"] = y_test\n",
        "submission_ex.to_csv(\"submission_1.csv\")"
      ],
      "execution_count": 0,
      "outputs": []
    },
    {
      "cell_type": "markdown",
      "metadata": {
        "id": "0zuOo3lH-lHh",
        "colab_type": "text"
      },
      "source": [
        "### Second try with PCA"
      ]
    },
    {
      "cell_type": "code",
      "metadata": {
        "id": "oe9VwYwC1te_",
        "colab_type": "code",
        "outputId": "b459a02f-36b5-4d49-de39-bd6012cd878e",
        "colab": {
          "base_uri": "https://localhost:8080/",
          "height": 102
        }
      },
      "source": [
        "list_iterations = [72]\n",
        "list_lr = [0.027]\n",
        "list_depth = [3]\n",
        "list_l1 = [162]\n",
        "list_l2 = [10.5]\n",
        "list_pca = [10]\n",
        "\n",
        "scaler = StandardScaler()\n",
        "\n",
        "df_train_scaled = scaler.fit_transform(df_encoded_train)\n",
        "df_test_scaled = scaler.transform(df_encoded_test)\n",
        "\n",
        "df_score = pd.DataFrame(columns=['iterations', 'learning_rate', 'depth', 'l1_reg', 'l2_reg', 'n_pca', 'score'])\n",
        "\n",
        "for n_pca in list_pca:\n",
        "\n",
        "\n",
        "  pca = PCA(n_pca)\n",
        "\n",
        "  df_train_pca = pca.fit_transform(df_train_scaled)\n",
        "  df_test_pca = pca.transform(df_test_scaled)\n",
        "\n",
        "  df_train_pca = pd.DataFrame(df_train_pca)\n",
        "  df_train_pca.index = radiomics_train.index\n",
        "  df_test_pca = pd.DataFrame(df_test_pca)\n",
        "  df_test_pca.index = radiomics_test.index\n",
        "\n",
        "  df_train_all = df_train_pca.join(radiomics_train).join(clinical_encoded_train)\n",
        "  df_test_all = df_test_pca.join(radiomics_test).join(clinical_encoded_test)\n",
        "\n",
        "  for iterr,  lr, depth, l1, l2 in itertools.product(list_iterations, list_lr, list_depth, list_l1, list_l2):\n",
        "\n",
        "\n",
        "    params = {'iterations':iterr, 'l_rate':lr, 'depth':depth, 'l1_reg':l1, 'l2_reg':l2}\n",
        "    score = train_model_and_validate_xgb(params,  df_train_all, output)\n",
        "    df_score = df_score.append([{'iterations':iterr,  'learning_rate':lr, 'depth':depth, 'l1_reg':l1, 'l2_reg':l2, 'n_pca':n_pca, 'score':score}])\n",
        "    print(score)"
      ],
      "execution_count": 0,
      "outputs": [
        {
          "output_type": "stream",
          "text": [
            "/usr/local/lib/python3.6/dist-packages/xgboost/core.py:587: FutureWarning: Series.base is deprecated and will be removed in a future version\n",
            "  if getattr(data, 'base', None) is not None and \\\n",
            "/usr/local/lib/python3.6/dist-packages/xgboost/core.py:588: FutureWarning: Series.base is deprecated and will be removed in a future version\n",
            "  data.base is not None and isinstance(data, np.ndarray) \\\n"
          ],
          "name": "stderr"
        },
        {
          "output_type": "stream",
          "text": [
            "0.6841222176962203\n"
          ],
          "name": "stdout"
        }
      ]
    },
    {
      "cell_type": "code",
      "metadata": {
        "id": "xxgBTDBL1thk",
        "colab_type": "code",
        "outputId": "60f17331-f10a-4db7-f874-be50382032fe",
        "colab": {
          "base_uri": "https://localhost:8080/",
          "height": 80
        }
      },
      "source": [
        "df_score.sort_values(by=['score'], ascending=False).head(20)"
      ],
      "execution_count": 0,
      "outputs": [
        {
          "output_type": "execute_result",
          "data": {
            "text/html": [
              "<div>\n",
              "<style scoped>\n",
              "    .dataframe tbody tr th:only-of-type {\n",
              "        vertical-align: middle;\n",
              "    }\n",
              "\n",
              "    .dataframe tbody tr th {\n",
              "        vertical-align: top;\n",
              "    }\n",
              "\n",
              "    .dataframe thead th {\n",
              "        text-align: right;\n",
              "    }\n",
              "</style>\n",
              "<table border=\"1\" class=\"dataframe\">\n",
              "  <thead>\n",
              "    <tr style=\"text-align: right;\">\n",
              "      <th></th>\n",
              "      <th>iterations</th>\n",
              "      <th>learning_rate</th>\n",
              "      <th>depth</th>\n",
              "      <th>l1_reg</th>\n",
              "      <th>l2_reg</th>\n",
              "      <th>n_pca</th>\n",
              "      <th>score</th>\n",
              "    </tr>\n",
              "  </thead>\n",
              "  <tbody>\n",
              "    <tr>\n",
              "      <th>0</th>\n",
              "      <td>72</td>\n",
              "      <td>0.027</td>\n",
              "      <td>3</td>\n",
              "      <td>162</td>\n",
              "      <td>10.5</td>\n",
              "      <td>10</td>\n",
              "      <td>0.684122</td>\n",
              "    </tr>\n",
              "  </tbody>\n",
              "</table>\n",
              "</div>"
            ],
            "text/plain": [
              "  iterations  learning_rate depth l1_reg  l2_reg n_pca     score\n",
              "0         72          0.027     3    162    10.5    10  0.684122"
            ]
          },
          "metadata": {
            "tags": []
          },
          "execution_count": 172
        }
      ]
    },
    {
      "cell_type": "code",
      "metadata": {
        "id": "tGW4TS9AF3fj",
        "colab_type": "code",
        "outputId": "5981c76c-06a0-4301-da77-89b1f5f5d216",
        "colab": {
          "base_uri": "https://localhost:8080/",
          "height": 85
        }
      },
      "source": [
        "best_params_xgb = {'iterations':70,  'learning_rate':0.027, 'depth':3, 'l1_reg':162, 'l2_reg':10, 'n_pca':10}\n",
        "\n",
        "\n",
        "scaler = StandardScaler()\n",
        "pca = PCA(10)\n",
        "\n",
        "df_train_scaled = scaler.fit_transform(df_encoded_train)\n",
        "df_test_scaled = scaler.transform(df_encoded_test)\n",
        "\n",
        "df_train_pca = pca.fit_transform(df_train_scaled)\n",
        "df_test_pca = pca.transform(df_test_scaled)\n",
        "\n",
        "\n",
        "df_train_pca = pd.DataFrame(df_train_pca)\n",
        "df_train_pca.index = radiomics_train.index\n",
        "df_test_pca = pd.DataFrame(df_test_pca)\n",
        "df_test_pca.index = radiomics_test.index\n",
        "\n",
        "df_train_all = df_train_pca.join(radiomics_train).join(clinical_encoded_train)\n",
        "df_test_all = df_test_pca.join(radiomics_test).join(clinical_encoded_test)\n",
        "\n",
        "\n",
        "model = XGBRegressor(n_estimators=70,max_depth=3, learning_rate=0.027,\n",
        "                         reg_alpha = 162, reg_lambda = 10, verbosity=0)\n",
        "\n",
        "\n",
        "model.fit(df_train_all, output[\"SurvivalTime\"], verbose=0)\n",
        "\n",
        "y_test = model.predict(df_test_all)\n",
        "\n",
        "submission_ex[\"SurvivalTime\"] = y_test\n",
        "submission_ex.to_csv(\"submission_1.csv\")"
      ],
      "execution_count": 0,
      "outputs": [
        {
          "output_type": "stream",
          "text": [
            "/usr/local/lib/python3.6/dist-packages/xgboost/core.py:587: FutureWarning: Series.base is deprecated and will be removed in a future version\n",
            "  if getattr(data, 'base', None) is not None and \\\n",
            "/usr/local/lib/python3.6/dist-packages/xgboost/core.py:588: FutureWarning: Series.base is deprecated and will be removed in a future version\n",
            "  data.base is not None and isinstance(data, np.ndarray) \\\n"
          ],
          "name": "stderr"
        }
      ]
    },
    {
      "cell_type": "code",
      "metadata": {
        "id": "qqg0wwF68nOw",
        "colab_type": "code",
        "colab": {}
      },
      "source": [
        ""
      ],
      "execution_count": 0,
      "outputs": []
    },
    {
      "cell_type": "code",
      "metadata": {
        "id": "2C3__niF1KY-",
        "colab_type": "code",
        "colab": {}
      },
      "source": [
        ""
      ],
      "execution_count": 0,
      "outputs": []
    },
    {
      "cell_type": "code",
      "metadata": {
        "id": "Bg_1IyrGKIM4",
        "colab_type": "code",
        "colab": {}
      },
      "source": [
        ""
      ],
      "execution_count": 0,
      "outputs": []
    },
    {
      "cell_type": "code",
      "metadata": {
        "id": "ZtC15vemOyFc",
        "colab_type": "code",
        "colab": {}
      },
      "source": [
        ""
      ],
      "execution_count": 0,
      "outputs": []
    }
  ]
}