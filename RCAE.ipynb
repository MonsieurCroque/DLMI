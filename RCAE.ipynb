{
  "nbformat": 4,
  "nbformat_minor": 0,
  "metadata": {
    "colab": {
      "name": "DLMI pipeline",
      "provenance": [],
      "collapsed_sections": []
    },
    "kernelspec": {
      "name": "python3",
      "display_name": "Python 3"
    }
  },
  "cells": [
    {
      "cell_type": "code",
      "metadata": {
        "id": "Ye4tIACaI23H",
        "colab_type": "code",
        "colab": {}
      },
      "source": [
        "import torch\n",
        "import numpy as np\n",
        "import pandas as pd\n",
        "from torch import nn\n",
        "from time import time\n",
        "from os import path\n",
        "from torchvision import transforms\n",
        "import random\n",
        "from copy import deepcopy"
      ],
      "execution_count": 0,
      "outputs": []
    },
    {
      "cell_type": "code",
      "metadata": {
        "id": "ZxfLs_ipkD3Z",
        "colab_type": "code",
        "outputId": "0385a0eb-777a-410a-b45f-9b73933f3f2b",
        "colab": {
          "base_uri": "https://localhost:8080/",
          "height": 122
        }
      },
      "source": [
        "from google.colab import drive\n",
        "drive.mount('/content/drive')"
      ],
      "execution_count": 0,
      "outputs": [
        {
          "output_type": "stream",
          "text": [
            "Go to this URL in a browser: https://accounts.google.com/o/oauth2/auth?client_id=947318989803-6bn6qk8qdgf4n4g3pfee6491hc0brc4i.apps.googleusercontent.com&redirect_uri=urn%3aietf%3awg%3aoauth%3a2.0%3aoob&response_type=code&scope=email%20https%3a%2f%2fwww.googleapis.com%2fauth%2fdocs.test%20https%3a%2f%2fwww.googleapis.com%2fauth%2fdrive%20https%3a%2f%2fwww.googleapis.com%2fauth%2fdrive.photos.readonly%20https%3a%2f%2fwww.googleapis.com%2fauth%2fpeopleapi.readonly\n",
            "\n",
            "Enter your authorization code:\n",
            "··········\n",
            "Mounted at /content/drive\n"
          ],
          "name": "stdout"
        }
      ]
    },
    {
      "cell_type": "markdown",
      "metadata": {
        "id": "L03TjLiKoWJH",
        "colab_type": "text"
      },
      "source": [
        "## Data Preperation"
      ]
    },
    {
      "cell_type": "code",
      "metadata": {
        "id": "ronkKB0mMmS5",
        "colab_type": "code",
        "colab": {}
      },
      "source": [
        "#Loading des csv\n",
        "\n",
        "path = '/content/drive/My Drive/DLMI/Data_challenge/'\n",
        "output = pd.read_csv(path +\"output_VSVxRFU.csv\")\n",
        "\n",
        "path_train = path +  \"data_Q0G7b5t/\"\n",
        "clinical_data_train = pd.read_csv(path_train +\"features/clinical_data.csv\")\n",
        "radiomics_train = pd.read_csv(path_train +\"features/radiomics.csv\")\n",
        "\n",
        "path_test= path + \"data_9Cbe5hx/\"\n",
        "clinical_data_test = pd.read_csv(path_test +\"features/clinical_data.csv\")\n",
        "radiomics_test = pd.read_csv(path_test +\"features/radiomics.csv\")\n",
        "\n",
        "radiomics_train.columns = [\"PatientID\"] + list(radiomics_train.iloc[0,1:])\n",
        "radiomics_train = radiomics_train.iloc[2:,:]\n",
        "\n",
        "radiomics_test.columns = [\"PatientID\"] + list(radiomics_test.iloc[0,1:])\n",
        "radiomics_test = radiomics_test.iloc[2:,:]\n",
        "\n",
        "clinical_data_train.set_index(\"PatientID\", inplace=True)\n",
        "clinical_data_test.set_index(\"PatientID\", inplace=True)\n",
        "radiomics_train.set_index(\"PatientID\", inplace=True)\n",
        "radiomics_test.set_index(\"PatientID\", inplace=True)\n",
        "output.set_index(\"PatientID\",inplace=True)\n",
        "\n",
        "submission_ex = pd.read_csv(path + \"random_submission_0vhlEZN.csv\")"
      ],
      "execution_count": 0,
      "outputs": []
    },
    {
      "cell_type": "code",
      "metadata": {
        "id": "85UYYgnwXhFF",
        "colab_type": "code",
        "colab": {}
      },
      "source": [
        "#Path images train et test \n",
        "Path_image_train = path + \"data_Q0G7b5t/images/\"\n",
        "Path_image_test = path + \"data_9Cbe5hx/images/\""
      ],
      "execution_count": 0,
      "outputs": []
    },
    {
      "cell_type": "markdown",
      "metadata": {
        "id": "EIHF9P6dkW6n",
        "colab_type": "text"
      },
      "source": [
        "In the next chunk, we introduce some vizualisation of the masks and scans "
      ]
    },
    {
      "cell_type": "code",
      "metadata": {
        "id": "myOu9L1KdzRq",
        "colab_type": "code",
        "outputId": "a7e91251-32f4-42d5-8a29-136a810d9b6e",
        "colab": {
          "base_uri": "https://localhost:8080/",
          "height": 923
        }
      },
      "source": [
        "import matplotlib.pyplot as plt\n",
        "import nibabel as nib\n",
        "from scipy.ndimage import rotate\n",
        "\n",
        "ex_archive = np.load(Path_image_train + 'patient_005.npz')\n",
        "scan = ex_archive['scan']\n",
        "mask = ex_archive['mask']\n",
        "\n",
        "# scan.shape equals mask.shape\n",
        "\n",
        "def show_slices(slices):\n",
        "    \"\"\" Function to display a row of image slices \"\"\"\n",
        "    fig, axes = plt.subplots(1, len(slices))\n",
        "    for i, slice in enumerate(slices):\n",
        "        axes[i].imshow(slice.T, cmap=\"gray\", origin=\"lower\")\n",
        "\n",
        "\n",
        "print(\"shape of scan is \" + str(scan.shape))\n",
        "print(\"shape of mask is \" + str(mask.shape))\n",
        "\n",
        "slice_0 = scan[ :,:,1]\n",
        "slice_1 = scan[ :,:,10]\n",
        "slice_2 = scan[ :,:,20]\n",
        "#plt.imshow(slice_0)\n",
        "show_slices([slice_0,slice_1,slice_2])\n",
        "plt.suptitle(\"Slice of raw scan of subject following first axe\")\n",
        "plt.show()\n",
        "\n",
        "slice_0 = scan[ 1,:,:]\n",
        "slice_1 = scan[ 10,:,:]\n",
        "slice_2 = scan[ 15,:,:]\n",
        "#plt.imshow(slice_0)\n",
        "show_slices([slice_0,slice_1,slice_2])\n",
        "plt.suptitle(\"Slice of raw scan of subject following second axe\")\n",
        "plt.show()\n",
        "\n",
        "\n",
        "slice_0 = scan[ :,1,:]\n",
        "slice_1 = scan[ :,10,:]\n",
        "slice_2 = scan[ :,30,:]\n",
        "#plt.imshow(slice_0)\n",
        "show_slices([slice_0,slice_1,slice_2])\n",
        "plt.suptitle(\"Slice of raw scan of subject following second axe\")\n",
        "plt.show()\n",
        "\n",
        "\n",
        "slice_0 = mask[ :,:,1]\n",
        "slice_1 = mask[ :,:,30]\n",
        "slice_2 = mask[ :,:,60]\n",
        "#plt.imshow(slice_0)\n",
        "show_slices([slice_0,slice_1,slice_2])\n",
        "plt.suptitle(\"Slice of raw mask of subject following first axe\")\n",
        "plt.show()\n"
      ],
      "execution_count": 0,
      "outputs": [
        {
          "output_type": "stream",
          "text": [
            "shape of scan is (92, 92, 92)\n",
            "shape of mask is (92, 92, 92)\n"
          ],
          "name": "stdout"
        },
        {
          "output_type": "display_data",
          "data": {
            "image/png": "[encoded data removed]",
            "text/plain": [
              "<Figure size 432x288 with 3 Axes>"
            ]
          },
          "metadata": {
            "tags": []
          }
        },
        {
          "output_type": "display_data",
          "data": {
            "image/png": "[encoded data removed]",
            "text/plain": [
              "<Figure size 432x288 with 3 Axes>"
            ]
          },
          "metadata": {
            "tags": []
          }
        },
        {
          "output_type": "display_data",
          "data": {
            "image/png": "[encoded data removed]",
            "text/plain": [
              "<Figure size 432x288 with 3 Axes>"
            ]
          },
          "metadata": {
            "tags": []
          }
        },
        {
          "output_type": "display_data",
          "data": {
            "image/png": "[encoded data removed]",
            "text/plain": [
              "<Figure size 432x288 with 3 Axes>"
            ]
          },
          "metadata": {
            "tags": []
          }
        }
      ]
    },
    {
      "cell_type": "markdown",
      "metadata": {
        "id": "8zskmQqckrob",
        "colab_type": "text"
      },
      "source": [
        "Below a function to transform scan if needed"
      ]
    },
    {
      "cell_type": "code",
      "metadata": {
        "id": "yKbuqtoY3ivt",
        "colab_type": "code",
        "colab": {}
      },
      "source": [
        "import torchvision.transforms as T\n",
        "\n",
        "trf = T.Compose([T.Resize(256),\n",
        "                 T.CenterCrop(224),\n",
        "                 T.ToTensor(),\n",
        "                 T.Normalize(mean = [0.485, 0.456, 0.406],\n",
        "                              std = [0.229, 0.224, 0.225])])\n",
        "\n"
      ],
      "execution_count": 0,
      "outputs": []
    },
    {
      "cell_type": "markdown",
      "metadata": {
        "id": "JZ8BL14Zk0aT",
        "colab_type": "text"
      },
      "source": [
        "Below creation of the dataset class for the dataloading "
      ]
    },
    {
      "cell_type": "code",
      "metadata": {
        "id": "580FC_YxpwZx",
        "colab_type": "code",
        "colab": {}
      },
      "source": [
        "from torch.utils.data import Dataset, DataLoader, sampler\n",
        "\n",
        "class OurDataset_train(Dataset):\n",
        "    \"\"\"This dataset includes .... \"\"\"\n",
        "    \n",
        "    def __init__(self, img_dir, clinical_data,radiomics, output, transform=None):\n",
        "        \"\"\"\n",
        "        Args:\n",
        "            img_dir: (str) path to the images directory.\n",
        "            clinical_data: (DataFrame) list of subjects with clinical data.\n",
        "            radiomics: (DataFrame) list of subjects with 53 features on each.\n",
        "            transform: Optional, transformations applied to ...\n",
        "        \"\"\"\n",
        "        self.img_dir = img_dir\n",
        "        self.radiomics = radiomics\n",
        "        self.clinical_data = clinical_data\n",
        "        self.transform = transform\n",
        "        \n",
        "        self.clinical_data = self.clinical_data.join(output,on='PatientID')\n",
        "        self.clinical_data = self.clinical_data.reset_index()\n",
        "\n",
        "        self.size = self[0]['scan'].shape\n",
        "        \n",
        "    def __len__(self):\n",
        "        return len(self.clinical_data)\n",
        "\n",
        "    def __getitem__(self, idx):\n",
        "        \"\"\"\n",
        "        Args:\n",
        "            idx: (int) the index of the subject/session whom data is loaded.\n",
        "        Returns:\n",
        "            sample: (dict) corresponding data described by the following keys:\n",
        "                scan: \n",
        "                mask: \n",
        "                PatientID: \n",
        "                SourceDataset\t\n",
        "        \"\"\"\n",
        "        PatientID = self.clinical_data.loc[idx, 'PatientID']\n",
        "        str_PID = str(PatientID)\n",
        "        if len(str_PID) ==1:\n",
        "          str_PID = \"00\"+str_PID\n",
        "        elif len(str_PID) ==2:\n",
        "          str_PID = \"0\"+str_PID\n",
        "\n",
        "        SourceDataset = self.clinical_data.loc[idx, 'SourceDataset']\n",
        "\n",
        "        #on peut carrément renvoyer la raw qui correspond dans clinical data et la \n",
        "        #raw qui correspond dans radiomics\n",
        "        #C'est ce qu'il faut rajouter pour faire la regression de survival time\n",
        "\n",
        "        filename = \"patient_\"+ str_PID + \".npz\"\n",
        "        with np.load(self.img_dir + filename) as image:\n",
        "            scan = torch.from_numpy(image['scan']).type(torch.FloatTensor)#.unsqueeze(0)\n",
        "            mask = torch.from_numpy(image['mask']).type(torch.FloatTensor)#.unsqueeze(0)\n",
        "\n",
        "        #SurvivalTime = self.clinical_data.loc[idx, 'SurvivalTime'].astype(np.long)\n",
        "        SurvivalTime = self.clinical_data.loc[idx, 'SurvivalTime'].astype(torch.FloatTensor)#.unsqueeze(0)\n",
        "        if self.transform:\n",
        "            scan = self.transform(scan)\n",
        "            mask = self.transform(mask)\n",
        "\n",
        "        sample = {'scan': scan, 'mask': mask,\n",
        "                  'PatientID': PatientID,\n",
        "                  'SurvivalTime' : SurvivalTime,\n",
        "                  'SourceDataset': SourceDataset}\n",
        "        return sample\n",
        "\n",
        "    def train(self):\n",
        "        \"\"\"Put all the transforms of the dataset in training mode\"\"\"\n",
        "        self.transform.train()\n",
        "\n",
        "    def eval(self):\n",
        "        \"\"\"Put all the transforms of the dataset in evaluation mode\"\"\"\n",
        "        self.transform.eval()\n",
        "\n",
        "class OurDataset_test(Dataset):\n",
        "    \"\"\"This dataset includes .... \"\"\"\n",
        "    \n",
        "    def __init__(self, img_dir, clinical_data,radiomics, transform=None):\n",
        "        \"\"\"\n",
        "        Args:\n",
        "            img_dir: (str) path to the images directory.\n",
        "            clinical_data: (DataFrame) list of subjects with clinical data.\n",
        "            radiomics: (DataFrame) list of subjects with 53 features on each.\n",
        "            transform: Optional, transformations applied to ...\n",
        "        \"\"\"\n",
        "        self.img_dir = img_dir\n",
        "        self.radiomics = radiomics\n",
        "        self.clinical_data = clinical_data\n",
        "        self.transform = transform\n",
        "        \n",
        "        self.clinical_data = self.clinical_data.join(output,on='PatientID')\n",
        "        self.clinical_data = self.clinical_data.reset_index()\n",
        "\n",
        "        self.size = self[0]['scan'].shape\n",
        "        \n",
        "    def __len__(self):\n",
        "        return len(self.clinical_data)\n",
        "\n",
        "    def __getitem__(self, idx):\n",
        "\n",
        "        PatientID = self.clinical_data.loc[idx, 'PatientID']\n",
        "        str_PID = str(PatientID)\n",
        "        if len(str_PID) ==1:\n",
        "          str_PID = \"00\"+str_PID\n",
        "        elif len(str_PID) ==2:\n",
        "          str_PID = \"0\"+str_PID\n",
        "\n",
        "        SourceDataset = self.clinical_data.loc[idx, 'SourceDataset']\n",
        "\n",
        "        filename = \"patient_\"+ str_PID + \".npz\"\n",
        "        with np.load(self.img_dir + filename) as image:\n",
        "            scan = torch.from_numpy(image['scan']).type(torch.FloatTensor)#.unsqueeze(0)\n",
        "            mask = torch.from_numpy(image['mask']).type(torch.FloatTensor)#.unsqueeze(0)\n",
        "\n",
        "        \n",
        "        if self.transform:\n",
        "            scan = self.transform(scan)\n",
        "\n",
        "        sample = {'scan': scan, 'mask': mask,\n",
        "                  'PatientID': PatientID,\n",
        "                  'SourceDataset': SourceDataset}\n",
        "        return sample\n",
        "\n",
        "    def train(self):\n",
        "        \"\"\"Put all the transforms of the dataset in training mode\"\"\"\n",
        "        self.transform.train()\n",
        "\n",
        "    def eval(self):\n",
        "        \"\"\"Put all the transforms of the dataset in evaluation mode\"\"\"\n",
        "        self.transform.eval()"
      ],
      "execution_count": 0,
      "outputs": []
    },
    {
      "cell_type": "markdown",
      "metadata": {
        "id": "oyw2gCEPkHq9",
        "colab_type": "text"
      },
      "source": [
        "## Building the model"
      ]
    },
    {
      "cell_type": "code",
      "metadata": {
        "id": "JpeN39GOlcLm",
        "colab_type": "code",
        "colab": {}
      },
      "source": [
        "import torch\n",
        "import torch.nn as nn\n",
        "import torch.optim as optim\n",
        "from torch.optim import lr_scheduler\n",
        "import numpy as np\n",
        "import torchvision\n",
        "from torchvision import datasets, models, transforms\n",
        "import matplotlib.pyplot as plt\n",
        "import time\n",
        "import os\n",
        "import copy\n",
        "from time import time"
      ],
      "execution_count": 0,
      "outputs": []
    },
    {
      "cell_type": "markdown",
      "metadata": {
        "id": "rSVhc9_klDnM",
        "colab_type": "text"
      },
      "source": [
        "Below we split the train dataset into a dataset to train our deep learning model and a dataset for evaluation"
      ]
    },
    {
      "cell_type": "code",
      "metadata": {
        "id": "3vxiRvmjLtWf",
        "colab_type": "code",
        "colab": {}
      },
      "source": [
        "from sklearn.model_selection import train_test_split\n",
        "\n",
        "idx = [i for i in range(len(clinical_data_train))]\n",
        "idx_train, idx_val= train_test_split(idx,test_size = 0.2, random_state=42)\n",
        "#penser à essayer avec 0.1\n",
        "\n",
        "clinical_data_for_train = clinical_data_train.iloc[idx_train]\n",
        "clinical_data_for_val = clinical_data_train.iloc[idx_val]\n",
        "\n",
        "radiomics_for_train = radiomics_train.iloc[idx_train]\n",
        "radiomics_for_val = radiomics_train.iloc[idx_val]\n",
        "\n",
        "output_for_train = output.iloc[idx_train]\n",
        "output_for_val = output.iloc[idx_val]\n",
        "\n",
        "batch_size=5\n",
        "dataset_train = OurDataset_train(Path_image_train, clinical_data_for_train, radiomics_for_train, output_for_train, transform=None)\n",
        "dataloader_train = DataLoader(dataset_train, batch_size=batch_size, drop_last=True)\n",
        "\n",
        "dataset_val = OurDataset_train(Path_image_train, clinical_data_for_val, radiomics_for_val,output_for_val, transform=None)\n",
        "dataloader_val = DataLoader(dataset_val, batch_size=batch_size, drop_last=True)\n",
        "\n"
      ],
      "execution_count": 0,
      "outputs": []
    },
    {
      "cell_type": "code",
      "metadata": {
        "id": "JCdWuKlwekDq",
        "colab_type": "code",
        "colab": {}
      },
      "source": [
        "dataset_test= OurDataset_test(Path_image_test, clinical_data_test, radiomics_test, transform=None)\n",
        "dataloader_test = DataLoader(dataset_test, batch_size=1, drop_last=True)"
      ],
      "execution_count": 0,
      "outputs": []
    },
    {
      "cell_type": "markdown",
      "metadata": {
        "id": "ZT4lgLC3lSfz",
        "colab_type": "text"
      },
      "source": [
        "Below the function to train and test the deep learning model"
      ]
    },
    {
      "cell_type": "code",
      "metadata": {
        "id": "fGEpQfORSkV_",
        "colab_type": "code",
        "colab": {}
      },
      "source": [
        "def train(model, train_loader, criterion, optimizer, n_epochs):\n",
        "    \"\"\"\n",
        "    Method used to train a nn\n",
        "    \n",
        "    Args:\n",
        "        model: (nn.Module) the neural network\n",
        "        train_loader: (DataLoader) a DataLoader wrapping the dataset\n",
        "        criterion: (nn.Module) a method to compute the loss of a mini-batch of images\n",
        "        optimizer: (torch.optim) an optimization algorithm\n",
        "        n_epochs: (int) number of epochs performed during training\n",
        "\n",
        "    Returns:\n",
        "        best_model: (nn.Module) the trained neural network\n",
        "    \"\"\"\n",
        "    best_model = deepcopy(model)\n",
        "    train_best_loss = np.inf\n",
        "\n",
        "    for epoch in range(n_epochs):\n",
        "        model.train()\n",
        "        total_loss = 0\n",
        "        t0 = time()\n",
        "        for i, data in enumerate(train_loader):\n",
        "            images, mask = data['scan'], data['mask']\n",
        "            outputs = model(images)\n",
        "            loss = criterion(outputs, mask)\n",
        "            loss.backward()\n",
        "            total_loss += loss.item()\n",
        "            optimizer.step()\n",
        "            optimizer.zero_grad()\n",
        "\n",
        "        mean_loss = total_loss / len(train_loader.dataset)\n",
        "        print('Epoch %i: loss = %f' % (epoch, mean_loss))\n",
        "\n",
        "        if mean_loss < train_best_loss:\n",
        "            best_model = deepcopy(model)\n",
        "            train_best_loss = mean_loss\n",
        "    \n",
        "    return best_model\n",
        "\n",
        "def test(model, data_loader, criterion):\n",
        "    \"\"\"\n",
        "    Method used to test a CNN\n",
        "    \n",
        "    Args:\n",
        "        model: (nn.Module) the neural network\n",
        "        data_loader: (DataLoader) a DataLoader wrapping a MRIDataset\n",
        "        criterion: (nn.Module) a method to compute the loss of a mini-batch of images\n",
        "    \n",
        "    Returns:\n",
        "        results_df: (DataFrame) the label predicted for on the slice level.\n",
        "        results_metrics: (dict) a set of metrics\n",
        "    \"\"\"\n",
        "    model.eval()\n",
        "    columns = [\"participant_id\", \"slice_id\", \"proba0\", \"proba1\",\n",
        "               \"true_label\", \"predicted_label\"]\n",
        "    results_df = pd.DataFrame(columns=columns)\n",
        "    total_loss = 0\n",
        "\n",
        "    batch_size = data_loader.batch_size\n",
        "    n = data_loader.dataset.clinical_data.shape[0]\n",
        "\n",
        "    n_batches = n//batch_size\n",
        "    \n",
        "    with torch.no_grad():\n",
        "        for i, data in enumerate(data_loader, 0):\n",
        "            images, masks = data['scan'], data['mask'] #unsqueeze(1)\n",
        "            outputs = model(images)\n",
        "\n",
        "            loss = criterion(outputs, masks)\n",
        "            total_loss += loss.item()\n",
        "            print(\"Batch {}/{} loss : {}\".format(i+1, n_batches, str(total_loss/((i+1)*batch_size))))\n",
        "       #     probs = nn.Softmax(dim=1)(outputs)\n",
        "        #    _, predicted = torch.max(outputs.data, 1)\n",
        "\n",
        "        \"\"\"    for idx, sub in enumerate(data['participant_id']):\n",
        "                row = [sub, data['slice_id'][idx], \n",
        "                       probs[idx, 0].item(), probs[idx, 1].item(),\n",
        "                       labels[idx].item(), predicted[idx].item()]\n",
        "                row_df = pd.DataFrame([row], columns=columns)\n",
        "                results_df = pd.concat([results_df, row_df])\"\"\"\n",
        "    print(\"Final loss : {}\".format(str(total_loss/ len(data_loader.dataset))))\n",
        "   # results_metrics = compute_metrics(results_df.true_label.values, results_df.predicted_label.values)\n",
        "  #  results_df.reset_index(inplace=True, drop=True)\n",
        "    \n",
        "    \n",
        "    ##return results_df, results_metrics\n",
        "\n",
        "\n",
        "def compute_metrics(ground_truth, prediction):\n",
        "    \"\"\"Computes the accuracy, sensitivity, specificity and balanced accuracy\"\"\"\n",
        "    tp = np.sum((prediction == 1) & (ground_truth == 1))\n",
        "    tn = np.sum((prediction == 0) & (ground_truth == 0))\n",
        "    fp = np.sum((prediction == 1) & (ground_truth == 0))\n",
        "    fn = np.sum((prediction == 0) & (ground_truth == 1))\n",
        "    \n",
        "    metrics_dict = dict()\n",
        "    metrics_dict['accuracy'] = (tp + tn) / (tp + tn + fp + fn)\n",
        "    \n",
        "    # Sensitivity\n",
        "    if tp + fn != 0:\n",
        "        metrics_dict['sensitivity'] = tp / (tp + fn)\n",
        "    else:\n",
        "        metrics_dict['sensitivity'] = 0.0\n",
        "        \n",
        "    # Specificity\n",
        "    if fp + tn != 0:\n",
        "        metrics_dict['specificity'] = tn / (fp + tn)\n",
        "    else:\n",
        "        metrics_dict['specificity'] = 0.0\n",
        "        \n",
        "    metrics_dict['balanced_accuracy'] = (metrics_dict['sensitivity'] + metrics_dict['specificity']) / 2\n",
        "    \n",
        "    return metrics_dict"
      ],
      "execution_count": 0,
      "outputs": []
    },
    {
      "cell_type": "markdown",
      "metadata": {
        "id": "IdHkEPvbmVtk",
        "colab_type": "text"
      },
      "source": [
        "We import a resnet18 trained on imagenet. We changed the first layer to adapat to our 2.5d (92 channels)\n",
        "And we change the classfication layer into a regression layer."
      ]
    },
    {
      "cell_type": "code",
      "metadata": {
        "id": "sQeHUtevvxaN",
        "colab_type": "code",
        "colab": {}
      },
      "source": [
        "import torch\n",
        "import torch.nn as nn"
      ],
      "execution_count": 0,
      "outputs": []
    },
    {
      "cell_type": "code",
      "metadata": {
        "id": "V26Ik7_jvxWa",
        "colab_type": "code",
        "colab": {}
      },
      "source": [
        "class ConvBlock(nn.Module):\n",
        "  def __init__(self, input_dim, middle_dim, output_dim):\n",
        "    super().__init__()\n",
        "    \n",
        "    self.conv1 = nn.Conv2d(input_dim, output_dim, kernel_size=1, stride=2)\n",
        "    self.conv2 = nn.Conv2d(input_dim, middle_dim, kernel_size=1, stride=2)\n",
        "    self.conv3 = nn.Conv2d(middle_dim, middle_dim, kernel_size=1)\n",
        "    self.conv4 = nn.Conv2d(middle_dim, output_dim, kernel_size=1)\n",
        "    self.relu = nn.ReLU()\n",
        "    self.batchnorm1 = nn.BatchNorm2d(middle_dim)\n",
        "    self.batchnorm2 = nn.BatchNorm2d(output_dim)\n",
        "    self.batchnorm3 = nn.BatchNorm2d(2*output_dim)\n",
        "\n",
        "  def forward(self, x):\n",
        "    x1 = self.conv1(x)\n",
        "    x1 = self.batchnorm2(x1)\n",
        "    x = self.conv2(x)\n",
        "    x = self.batchnorm1(x)\n",
        "    x = self.conv3(x)\n",
        "    x = self.batchnorm1(x)\n",
        "    x2 = self.conv4(x)\n",
        "    x = torch.cat([x1,x2], dim = 1)\n",
        "    x = self.batchnorm3(x)\n",
        "    x = self.relu(x)\n",
        "    return x\n",
        "\n",
        "class Encoder(nn.Module):\n",
        "  def __init__(self):\n",
        "    super(Encoder, self).__init__()\n",
        "    self.conv = nn.Conv2d(92, 32, kernel_size=7)\n",
        "    self.pool_conv = nn.ModuleList()\n",
        "    self.pool_conv.append(ConvBlock(32, 32, 16))\n",
        "    self.pool_conv.append(ConvBlock(32, 32, 16))\n",
        "    self.pool_conv.append(ConvBlock(32, 48, 32))\n",
        "    self.pool_conv.append(ConvBlock(64, 48, 32))\n",
        "\n",
        "  def forward(self, x):\n",
        "    x = self.conv(x)\n",
        "    for layer in self.pool_conv:\n",
        "      x = layer(x)\n",
        "    return x\n",
        "\n",
        "class Decoder(nn.Module):\n",
        "    def __init__(self):\n",
        "      super(Decoder, self).__init__()\n",
        "      self.conv = nn.Conv2d(32, 92, kernel_size=7)\n",
        "      self.pool_conv = nn.ModuleList()\n",
        "      self.pool_conv.append(nn.Upsample(size=(11, 11)))\n",
        "      self.pool_conv.append(ConvBlock(64, 48, 32))\n",
        "      self.pool_conv.append(nn.Upsample(size=(22, 22)))\n",
        "      self.pool_conv.append(ConvBlock(64, 48, 32))\n",
        "      self.pool_conv.append(nn.Upsample(size=(43, 43)))\n",
        "      self.pool_conv.append(ConvBlock(64, 32, 16))\n",
        "      self.pool_conv.append(nn.Upsample(size=(92, 92)))\n",
        "      self.pool_conv.append(ConvBlock(32, 32, 16))\n",
        "      self.pool_conv.append(nn.Upsample(size=(98, 98)))\n",
        "\n",
        "    def forward(self, x):\n",
        "      for layer in self.pool_conv:\n",
        "        x = layer(x)\n",
        "      x = self.conv(x)\n",
        "      return x"
      ],
      "execution_count": 0,
      "outputs": []
    },
    {
      "cell_type": "code",
      "metadata": {
        "id": "18qYlObRMWr5",
        "colab_type": "code",
        "colab": {}
      },
      "source": [
        "class RCAE(nn.Module):\n",
        "\n",
        "    def __init__(self):\n",
        "        super(RCAE, self).__init__()\n",
        "        self.encoder = Encoder()\n",
        "        self.decoder = Decoder()\n",
        "\n",
        "    def features(self, x):\n",
        "        return self.encoder(x)\n",
        "\n",
        "    def forward(self, x):\n",
        "        x = self.encoder(x)\n",
        "        return self.decoder(x)"
      ],
      "execution_count": 0,
      "outputs": []
    },
    {
      "cell_type": "markdown",
      "metadata": {
        "colab_type": "text",
        "id": "H9H1dKWjO-lw"
      },
      "source": [
        "Training"
      ]
    },
    {
      "cell_type": "code",
      "metadata": {
        "id": "tbjPawnwslET",
        "colab_type": "code",
        "outputId": "ebc54163-043c-4330-ddd2-a85292a7b221",
        "colab": {
          "base_uri": "https://localhost:8080/",
          "height": 272
        }
      },
      "source": [
        "learning_rate = 8e-4\n",
        "\n",
        "model = RCAE()\n",
        "criterion = nn.MSELoss()\n",
        "optimizer = torch.optim.Adam(model.parameters(), learning_rate, weight_decay=3e-5)\n",
        "n_epochs = 15\n",
        "\n",
        "model = train(model, dataloader_train, criterion, optimizer, n_epochs)"
      ],
      "execution_count": 0,
      "outputs": [
        {
          "output_type": "stream",
          "text": [
            "Epoch 0: loss = 0.017231\n",
            "Epoch 1: loss = 0.011261\n",
            "Epoch 2: loss = 0.010750\n",
            "Epoch 3: loss = 0.010479\n",
            "Epoch 4: loss = 0.010272\n",
            "Epoch 5: loss = 0.010120\n",
            "Epoch 6: loss = 0.009901\n",
            "Epoch 7: loss = 0.009745\n",
            "Epoch 8: loss = 0.009608\n",
            "Epoch 9: loss = 0.009529\n",
            "Epoch 10: loss = 0.009643\n",
            "Epoch 11: loss = 0.009396\n",
            "Epoch 12: loss = 0.008956\n",
            "Epoch 13: loss = 0.008893\n",
            "Epoch 14: loss = 0.008996\n"
          ],
          "name": "stdout"
        }
      ]
    },
    {
      "cell_type": "markdown",
      "metadata": {
        "id": "cShrO1nvmq2x",
        "colab_type": "text"
      },
      "source": [
        "Eval of the deep learning network"
      ]
    },
    {
      "cell_type": "code",
      "metadata": {
        "id": "FeW_GtIr6HKu",
        "colab_type": "code",
        "outputId": "90946ee5-205d-4fb9-a9ea-e2771487f2cc",
        "colab": {
          "base_uri": "https://localhost:8080/",
          "height": 238
        }
      },
      "source": [
        "test(model,dataloader_val,criterion)"
      ],
      "execution_count": 0,
      "outputs": [
        {
          "output_type": "stream",
          "text": [
            "Batch 1/12 loss : 0.015452732145786286\n",
            "Batch 2/12 loss : 0.022112707048654555\n",
            "Batch 3/12 loss : 0.02080978701512019\n",
            "Batch 4/12 loss : 0.021651213988661766\n",
            "Batch 5/12 loss : 0.02129004955291748\n",
            "Batch 6/12 loss : 0.0187318854033947\n",
            "Batch 7/12 loss : 0.01746512640799795\n",
            "Batch 8/12 loss : 0.016716383304446934\n",
            "Batch 9/12 loss : 0.01672403092185656\n",
            "Batch 10/12 loss : 0.016743004843592642\n",
            "Batch 11/12 loss : 0.015835524689067494\n",
            "Batch 12/12 loss : 0.015532918026049931\n",
            "Final loss : 0.015532918026049931\n"
          ],
          "name": "stdout"
        }
      ]
    },
    {
      "cell_type": "markdown",
      "metadata": {
        "id": "sjgPZlFUkMCv",
        "colab_type": "text"
      },
      "source": [
        "\n",
        "\n",
        "```\n",
        "# Ce texte est au format code\n",
        "```\n",
        "\n",
        "## Extracting the result for submission using only the deep learning network\n"
      ]
    },
    {
      "cell_type": "code",
      "metadata": {
        "colab_type": "code",
        "id": "ggyU8vEQYYwj",
        "colab": {}
      },
      "source": [
        "from sklearn.model_selection import train_test_split\n",
        "\n",
        "idx = [i for i in range(len(clinical_data_train))]\n",
        "idx_train, idx_val= train_test_split(idx,test_size = 0.2, random_state=42)\n",
        "#penser à essayer avec 0.1\n",
        "\n",
        "clinical_data_for_train = clinical_data_train.iloc[idx_train]\n",
        "clinical_data_for_val = clinical_data_train.iloc[idx_val]\n",
        "\n",
        "radiomics_for_train = radiomics_train.iloc[idx_train]\n",
        "radiomics_for_val = radiomics_train.iloc[idx_val]\n",
        "\n",
        "output_for_train = output.iloc[idx_train]\n",
        "output_for_val = output.iloc[idx_val]\n",
        "\n",
        "batch_size=5\n",
        "dataset_train = OurDataset_train(Path_image_train, clinical_data_for_train, radiomics_for_train, output_for_train, transform=None)\n",
        "dataloader_train = DataLoader(dataset_train, batch_size=batch_size, drop_last=True)\n",
        "\n",
        "dataset_val = OurDataset_train(Path_image_train, clinical_data_for_val, radiomics_for_val,output_for_val, transform=None)\n",
        "dataloader_val = DataLoader(dataset_val, batch_size=batch_size, drop_last=True)\n",
        "\n"
      ],
      "execution_count": 0,
      "outputs": []
    },
    {
      "cell_type": "code",
      "metadata": {
        "colab_type": "code",
        "id": "8vGrPM6uYYw4",
        "colab": {}
      },
      "source": [
        "dataset_test= OurDataset_test(Path_image_test, clinical_data_test, radiomics_test, transform=None)\n",
        "dataloader_test = DataLoader(dataset_test, batch_size=1, drop_last=True)"
      ],
      "execution_count": 0,
      "outputs": []
    },
    {
      "cell_type": "code",
      "metadata": {
        "id": "KRJLijLoantf",
        "colab_type": "code",
        "colab": {}
      },
      "source": [
        "def calcul(model, loader):\n",
        "  result=[]\n",
        "  patientid=[]\n",
        "  df = pd.DataFrame()\n",
        "  for data in loader:\n",
        "    images = data['scan']\n",
        "    PatientId = int(data[\"PatientID\"][0])\n",
        "    y = (model.features(images)[0].detach().flatten().tolist())\n",
        "    result.append(y)\n",
        "    patientid.append(PatientId)\n",
        "  return patientid,result"
      ],
      "execution_count": 0,
      "outputs": []
    },
    {
      "cell_type": "code",
      "metadata": {
        "id": "FH8zvPvKbjRW",
        "colab_type": "code",
        "colab": {}
      },
      "source": [
        " PatientidTest, ResultforTest = calcul(model,dataloader_test) "
      ],
      "execution_count": 0,
      "outputs": []
    },
    {
      "cell_type": "code",
      "metadata": {
        "id": "GZPiuCUjDaZS",
        "colab_type": "code",
        "colab": {}
      },
      "source": [
        "batch_size=1\n",
        "dataset_train_1 = OurDataset_train(Path_image_train, clinical_data_for_train, radiomics_for_train, output_for_train, transform=None)\n",
        "dataloader_train_1 = DataLoader(dataset_train, batch_size=batch_size, drop_last=True)\n",
        "\n",
        "dataset_val_1 = OurDataset_train(Path_image_train, clinical_data_for_val, radiomics_for_val,output_for_val, transform=None)\n",
        "dataloader_val_1 = DataLoader(dataset_val, batch_size=batch_size, drop_last=True)\n",
        "\n",
        "\n",
        "PatientidTrain, ResultforTrain = calcul(model,dataloader_train_1) \n",
        "PatientidVal, ResultforVal = calcul(model,dataloader_val_1) "
      ],
      "execution_count": 0,
      "outputs": []
    },
    {
      "cell_type": "markdown",
      "metadata": {
        "id": "U9YGhbiOnBAr",
        "colab_type": "text"
      },
      "source": [
        "## Adding clinical and radiomics feature to the deep learning predicted survival time"
      ]
    },
    {
      "cell_type": "code",
      "metadata": {
        "id": "j0rNWBO-Aj2p",
        "colab_type": "code",
        "colab": {}
      },
      "source": [
        "clinical_data_for_train = clinical_data_train.iloc[idx_train].reset_index().iloc[:,1:]\n",
        "clinical_data_for_val = clinical_data_train.iloc[idx_val].reset_index().iloc[:,1:]\n",
        "\n",
        "radiomics_for_a_train = radiomics_train.iloc[idx_train].reset_index().iloc[:,1:]\n",
        "radiomics_for_a_val = radiomics_train.iloc[idx_val].reset_index().iloc[:,1:]\n",
        "\n",
        "radiomics_a_test_1 = radiomics_test.reset_index().iloc[:,1:]\n",
        "clinical_data_test_1 = clinical_data_test.reset_index().iloc[:,1:]\n",
        "\n",
        "output_for_train = output.iloc[idx_train].reset_index().iloc[:,1]\n",
        "output_for_val = output.iloc[idx_val].reset_index().iloc[:,1]\n"
      ],
      "execution_count": 0,
      "outputs": []
    },
    {
      "cell_type": "code",
      "metadata": {
        "id": "dDuXqsvP9CB6",
        "colab_type": "code",
        "outputId": "a7eddb50-3e12-4900-ec48-8ec3a3d46b9e",
        "colab": {
          "base_uri": "https://localhost:8080/",
          "height": 139
        }
      },
      "source": [
        "from sklearn import preprocessing\n",
        "\n",
        "radiomics_for_train = preprocessing.scale(radiomics_for_a_train)\n",
        "radiomics_for_val = preprocessing.scale(radiomics_for_a_val)\n",
        "radiomics_test_1 = preprocessing.scale(radiomics_a_test_1)\n",
        "\n",
        "from sklearn.decomposition import PCA\n",
        "\n",
        "pca = PCA(n_components=10)\n",
        "\n",
        "radiomics_for_train = pd.DataFrame(pca.fit_transform(radiomics_for_train))\n",
        "\n",
        "radiomics_for_val = pd.DataFrame(pca.transform(radiomics_for_val))\n",
        "radiomics_test_1 = pd.DataFrame(pca.transform(radiomics_a_test_1))"
      ],
      "execution_count": 0,
      "outputs": [
        {
          "output_type": "stream",
          "text": [
            "/usr/local/lib/python3.6/dist-packages/sklearn/preprocessing/_data.py:173: UserWarning: Numerical issues were encountered when centering the data and might not be solved. Dataset may contain too large values. You may need to prescale your features.\n",
            "  warnings.warn(\"Numerical issues were encountered \"\n",
            "/usr/local/lib/python3.6/dist-packages/sklearn/preprocessing/_data.py:173: UserWarning: Numerical issues were encountered when centering the data and might not be solved. Dataset may contain too large values. You may need to prescale your features.\n",
            "  warnings.warn(\"Numerical issues were encountered \"\n",
            "/usr/local/lib/python3.6/dist-packages/sklearn/preprocessing/_data.py:173: UserWarning: Numerical issues were encountered when centering the data and might not be solved. Dataset may contain too large values. You may need to prescale your features.\n",
            "  warnings.warn(\"Numerical issues were encountered \"\n"
          ],
          "name": "stderr"
        }
      ]
    },
    {
      "cell_type": "code",
      "metadata": {
        "id": "-iEhvYELrvFd",
        "colab_type": "code",
        "colab": {}
      },
      "source": [
        "new_result_train = pd.DataFrame(columns = [str(i) +\"s\" for i in range(len(ResultforTrain[0]))])\n",
        "for i in range(len(ResultforTrain)):\n",
        "  new_result_train.loc[i] = ResultforTrain[i]\n",
        "\n",
        "new_result_test = pd.DataFrame(columns = [str(i) +\"s\" for i in range(len(ResultforTest[0]))])\n",
        "for i in range(len(ResultforTest)):\n",
        "  new_result_test.loc[i] = ResultforTest[i]\n",
        "\n",
        "new_result_val = pd.DataFrame(columns = [str(i) +\"s\" for i in range(len(ResultforVal[0]))])\n",
        "for i in range(len(ResultforVal)):\n",
        "  new_result_val.loc[i] = ResultforVal[i]\n",
        "\n",
        "ResultTrain = preprocessing.scale(new_result_train)\n",
        "ResultVal = preprocessing.scale(new_result_val)\n",
        "ResultTest = preprocessing.scale(new_result_test)\n",
        "\n",
        "otherpca = PCA(n_components=10)\n",
        "\n",
        "new_result_train = pd.DataFrame(otherpca.fit_transform(ResultTrain))\n",
        "\n",
        "new_result_val = pd.DataFrame(otherpca.transform(ResultVal))\n",
        "new_result_test = pd.DataFrame(otherpca.transform(ResultTest))"
      ],
      "execution_count": 0,
      "outputs": []
    },
    {
      "cell_type": "code",
      "metadata": {
        "id": "4IkjnYmJAIVW",
        "colab_type": "code",
        "outputId": "37ab598c-43b3-4006-c540-9a4df766ddac",
        "colab": {
          "base_uri": "https://localhost:8080/",
          "height": 51
        }
      },
      "source": [
        "pca.explained_variance_ratio_\n"
      ],
      "execution_count": 0,
      "outputs": [
        {
          "output_type": "execute_result",
          "data": {
            "text/plain": [
              "array([0.49514637, 0.15568133, 0.07914132, 0.05486399, 0.04978658,\n",
              "       0.03980908, 0.02640242, 0.022413  , 0.01642615, 0.01562686])"
            ]
          },
          "metadata": {
            "tags": []
          },
          "execution_count": 28
        }
      ]
    },
    {
      "cell_type": "code",
      "metadata": {
        "id": "q1p6YXOisDOf",
        "colab_type": "code",
        "outputId": "339a47b0-e341-4733-dd7e-74f15e9c71bf",
        "colab": {
          "base_uri": "https://localhost:8080/",
          "height": 51
        }
      },
      "source": [
        "otherpca.explained_variance_ratio_"
      ],
      "execution_count": 0,
      "outputs": [
        {
          "output_type": "execute_result",
          "data": {
            "text/plain": [
              "array([0.1095889 , 0.06673336, 0.05111265, 0.04459542, 0.03294866,\n",
              "       0.02489739, 0.02258693, 0.0208991 , 0.01829863, 0.01628899])"
            ]
          },
          "metadata": {
            "tags": []
          },
          "execution_count": 29
        }
      ]
    },
    {
      "cell_type": "code",
      "metadata": {
        "id": "eZT3aok4pf90",
        "colab_type": "code",
        "colab": {}
      },
      "source": [
        "from skimage.filters import gabor\n",
        "import scipy.ndimage as nd\n",
        "\n",
        "def gabor_apply(loader):\n",
        "  gabor_res=[]\n",
        "\n",
        "  theta_v = [0.2*i for i in range(1,6)]\n",
        "  sigma = [i for i in range(1,6)]\n",
        "  freq = [i*0.1 for i in range(1,6)]\n",
        "\n",
        "  for data in loader:\n",
        "    y = []\n",
        "\n",
        "    for i in range(5):\n",
        "      image = np.array(data['scan'][0].tolist())\n",
        "      temp =  np.array([[[0 for i in range(image.shape[0])]for j in range(image.shape[1])]for k in range(image.shape[2])])\n",
        "      for k in range(image.shape[2]):\n",
        "        temp[:,:,k],_ = gabor(image[:,:,k], frequency= freq[i], theta = theta_v[i] * np.pi,sigma_x=sigma[i], sigma_y=sigma[i])\n",
        "\n",
        "      mean = temp.mean()\n",
        "      variance = temp.var()\n",
        "      max_v = np.max(temp)\n",
        "      min_v = np.min(temp)\n",
        "\n",
        "      y += [variance, mean, max_v, min_v]\n",
        "    \n",
        "    gabor_res.append(y)\n",
        "  \n",
        "  return gabor_res\n",
        "\n",
        "gabor_train = gabor_apply(dataloader_train_1)\n",
        "gabor_val = gabor_apply(dataloader_val_1)\n",
        "gabor_test = gabor_apply(dataloader_test)"
      ],
      "execution_count": 0,
      "outputs": []
    },
    {
      "cell_type": "code",
      "metadata": {
        "id": "qUQuzBuPm2E5",
        "colab_type": "code",
        "colab": {}
      },
      "source": [
        "new_gabor_train = pd.DataFrame(columns = [str(i) +\"g\" for i in range(len(gabor_train[0]))])\n",
        "for i in range(len(gabor_train)):\n",
        "  new_gabor_train.loc[i] = gabor_train[i]\n",
        "\n",
        "new_gabor_test = pd.DataFrame(columns = [str(i) +\"g\" for i in range(len(gabor_test[0]))])\n",
        "for i in range(len(gabor_test)):\n",
        "  new_gabor_test.loc[i] = gabor_test[i]\n",
        "\n",
        "new_gabor_val = pd.DataFrame(columns = [str(i) +\"g\" for i in range(len(gabor_val[0]))])\n",
        "for i in range(len(gabor_val)):\n",
        "  new_gabor_val.loc[i] = gabor_val[i]\n",
        "\n",
        "GaborTrain = preprocessing.scale(new_gabor_train)\n",
        "GaborVal = preprocessing.scale(new_gabor_val)\n",
        "GaborTest = preprocessing.scale(new_gabor_test)\n",
        "\n",
        "lastpca = PCA(n_components=9)\n",
        "\n",
        "gabortrain = pd.DataFrame(lastpca.fit_transform(GaborTrain))\n",
        "gaborval = pd.DataFrame(lastpca.transform(GaborVal))\n",
        "gabortest = pd.DataFrame(lastpca.transform(GaborTest))"
      ],
      "execution_count": 0,
      "outputs": []
    },
    {
      "cell_type": "code",
      "metadata": {
        "id": "OKsknYoyvkQs",
        "colab_type": "code",
        "outputId": "fddb9850-a829-4621-b577-4cc0f0b97086",
        "colab": {
          "base_uri": "https://localhost:8080/",
          "height": 51
        }
      },
      "source": [
        "lastpca.explained_variance_ratio_"
      ],
      "execution_count": 0,
      "outputs": [
        {
          "output_type": "execute_result",
          "data": {
            "text/plain": [
              "array([0.55715714, 0.1596259 , 0.06921425, 0.05203703, 0.03980934,\n",
              "       0.03435112, 0.02878551, 0.0160287 , 0.01361433])"
            ]
          },
          "metadata": {
            "tags": []
          },
          "execution_count": 62
        }
      ]
    },
    {
      "cell_type": "code",
      "metadata": {
        "id": "1IUnizNiC5sV",
        "colab_type": "code",
        "outputId": "fbde1141-6239-4083-ce3c-cd485937a8b1",
        "colab": {
          "base_uri": "https://localhost:8080/",
          "height": 241
        }
      },
      "source": [
        "#df_train = pd.concat([radiomics_for_train,new_result_train, clinical_data_for_train, gabortrain],axis=1)\n",
        "df_train = pd.concat([radiomics_for_train,new_result_train, clinical_data_for_train],axis=1)\n",
        "#df_test =  pd.concat([radiomics_test_1,new_result_test, clinical_data_test_1, gabortest],axis=1)\n",
        "df_test =  pd.concat([radiomics_test_1,new_result_test, clinical_data_test_1],axis=1)\n",
        "#df_val = pd.concat([radiomics_for_val,new_result_val, clinical_data_for_val, gaborval],axis=1)\n",
        "df_val = pd.concat([radiomics_for_val,new_result_val, clinical_data_for_val],axis=1)\n",
        "\n",
        "df_val.columns = [str(i) for i in range(len(df_val.columns))]\n",
        "df_test.columns = [str(i) for i in range(len(df_test.columns))]\n",
        "df_train.columns = [str(i) for i in range(len(df_train.columns))]\n",
        "df_train.head()"
      ],
      "execution_count": 0,
      "outputs": [
        {
          "output_type": "execute_result",
          "data": {
            "text/html": [
              "<div>\n",
              "<style scoped>\n",
              "    .dataframe tbody tr th:only-of-type {\n",
              "        vertical-align: middle;\n",
              "    }\n",
              "\n",
              "    .dataframe tbody tr th {\n",
              "        vertical-align: top;\n",
              "    }\n",
              "\n",
              "    .dataframe thead th {\n",
              "        text-align: right;\n",
              "    }\n",
              "</style>\n",
              "<table border=\"1\" class=\"dataframe\">\n",
              "  <thead>\n",
              "    <tr style=\"text-align: right;\">\n",
              "      <th></th>\n",
              "      <th>0</th>\n",
              "      <th>1</th>\n",
              "      <th>2</th>\n",
              "      <th>3</th>\n",
              "      <th>4</th>\n",
              "      <th>5</th>\n",
              "      <th>6</th>\n",
              "      <th>7</th>\n",
              "      <th>8</th>\n",
              "      <th>9</th>\n",
              "      <th>10</th>\n",
              "      <th>11</th>\n",
              "      <th>12</th>\n",
              "      <th>13</th>\n",
              "      <th>14</th>\n",
              "      <th>15</th>\n",
              "      <th>16</th>\n",
              "      <th>17</th>\n",
              "      <th>18</th>\n",
              "      <th>19</th>\n",
              "      <th>20</th>\n",
              "      <th>21</th>\n",
              "      <th>22</th>\n",
              "      <th>23</th>\n",
              "      <th>24</th>\n",
              "      <th>25</th>\n",
              "    </tr>\n",
              "  </thead>\n",
              "  <tbody>\n",
              "    <tr>\n",
              "      <th>0</th>\n",
              "      <td>7.620663</td>\n",
              "      <td>0.486540</td>\n",
              "      <td>-1.266777</td>\n",
              "      <td>0.666230</td>\n",
              "      <td>1.694296</td>\n",
              "      <td>1.467677</td>\n",
              "      <td>0.702404</td>\n",
              "      <td>-0.575716</td>\n",
              "      <td>-1.636755</td>\n",
              "      <td>0.124355</td>\n",
              "      <td>1.091307</td>\n",
              "      <td>-13.109280</td>\n",
              "      <td>-8.811534</td>\n",
              "      <td>1.684406</td>\n",
              "      <td>6.602840</td>\n",
              "      <td>0.122457</td>\n",
              "      <td>-4.198642</td>\n",
              "      <td>-5.282022</td>\n",
              "      <td>-4.912086</td>\n",
              "      <td>-11.504831</td>\n",
              "      <td>large cell</td>\n",
              "      <td>0</td>\n",
              "      <td>0</td>\n",
              "      <td>l1</td>\n",
              "      <td>4</td>\n",
              "      <td>79.1020</td>\n",
              "    </tr>\n",
              "    <tr>\n",
              "      <th>1</th>\n",
              "      <td>5.506842</td>\n",
              "      <td>6.505225</td>\n",
              "      <td>-1.153755</td>\n",
              "      <td>0.132907</td>\n",
              "      <td>-2.314646</td>\n",
              "      <td>6.345224</td>\n",
              "      <td>0.965414</td>\n",
              "      <td>-1.385246</td>\n",
              "      <td>-0.002879</td>\n",
              "      <td>1.173201</td>\n",
              "      <td>-9.808393</td>\n",
              "      <td>-21.379479</td>\n",
              "      <td>-4.552587</td>\n",
              "      <td>-10.094890</td>\n",
              "      <td>-0.973086</td>\n",
              "      <td>1.931392</td>\n",
              "      <td>4.270851</td>\n",
              "      <td>4.903780</td>\n",
              "      <td>11.515579</td>\n",
              "      <td>2.042567</td>\n",
              "      <td>Adenocarcinoma</td>\n",
              "      <td>0</td>\n",
              "      <td>1</td>\n",
              "      <td>l2</td>\n",
              "      <td>3</td>\n",
              "      <td>56.0000</td>\n",
              "    </tr>\n",
              "    <tr>\n",
              "      <th>2</th>\n",
              "      <td>6.067549</td>\n",
              "      <td>-1.522951</td>\n",
              "      <td>2.383400</td>\n",
              "      <td>0.797296</td>\n",
              "      <td>-0.790221</td>\n",
              "      <td>0.201712</td>\n",
              "      <td>0.417272</td>\n",
              "      <td>3.872932</td>\n",
              "      <td>2.006415</td>\n",
              "      <td>-0.641047</td>\n",
              "      <td>-15.268743</td>\n",
              "      <td>-23.139125</td>\n",
              "      <td>-2.727551</td>\n",
              "      <td>3.054034</td>\n",
              "      <td>-2.588198</td>\n",
              "      <td>-8.537570</td>\n",
              "      <td>4.365630</td>\n",
              "      <td>0.535834</td>\n",
              "      <td>1.181997</td>\n",
              "      <td>-2.583650</td>\n",
              "      <td>squamous cell carcinoma</td>\n",
              "      <td>0</td>\n",
              "      <td>0</td>\n",
              "      <td>l1</td>\n",
              "      <td>3</td>\n",
              "      <td>78.7105</td>\n",
              "    </tr>\n",
              "    <tr>\n",
              "      <th>3</th>\n",
              "      <td>-2.918245</td>\n",
              "      <td>3.643165</td>\n",
              "      <td>0.070701</td>\n",
              "      <td>1.411236</td>\n",
              "      <td>-1.843138</td>\n",
              "      <td>-2.181853</td>\n",
              "      <td>-0.212374</td>\n",
              "      <td>-0.605711</td>\n",
              "      <td>-0.427247</td>\n",
              "      <td>-0.173680</td>\n",
              "      <td>-8.069721</td>\n",
              "      <td>2.922952</td>\n",
              "      <td>7.136775</td>\n",
              "      <td>-9.055012</td>\n",
              "      <td>-4.906395</td>\n",
              "      <td>-4.347223</td>\n",
              "      <td>-11.176056</td>\n",
              "      <td>-0.044798</td>\n",
              "      <td>0.754363</td>\n",
              "      <td>16.247639</td>\n",
              "      <td>Adenocarcinoma</td>\n",
              "      <td>0</td>\n",
              "      <td>2</td>\n",
              "      <td>l2</td>\n",
              "      <td>2</td>\n",
              "      <td>74.0000</td>\n",
              "    </tr>\n",
              "    <tr>\n",
              "      <th>4</th>\n",
              "      <td>-1.547518</td>\n",
              "      <td>-2.811621</td>\n",
              "      <td>-0.085715</td>\n",
              "      <td>1.226051</td>\n",
              "      <td>-0.734835</td>\n",
              "      <td>-0.775082</td>\n",
              "      <td>0.078228</td>\n",
              "      <td>-0.636443</td>\n",
              "      <td>0.834932</td>\n",
              "      <td>-0.210428</td>\n",
              "      <td>24.057751</td>\n",
              "      <td>-8.173829</td>\n",
              "      <td>3.726584</td>\n",
              "      <td>-7.092636</td>\n",
              "      <td>21.049814</td>\n",
              "      <td>-5.922323</td>\n",
              "      <td>-1.440937</td>\n",
              "      <td>2.586224</td>\n",
              "      <td>-8.398267</td>\n",
              "      <td>9.217543</td>\n",
              "      <td>Adenocarcinoma</td>\n",
              "      <td>0</td>\n",
              "      <td>0</td>\n",
              "      <td>l2</td>\n",
              "      <td>1</td>\n",
              "      <td>62.0000</td>\n",
              "    </tr>\n",
              "  </tbody>\n",
              "</table>\n",
              "</div>"
            ],
            "text/plain": [
              "          0         1         2         3         4  ...  21  22  23  24       25\n",
              "0  7.620663  0.486540 -1.266777  0.666230  1.694296  ...   0   0  l1   4  79.1020\n",
              "1  5.506842  6.505225 -1.153755  0.132907 -2.314646  ...   0   1  l2   3  56.0000\n",
              "2  6.067549 -1.522951  2.383400  0.797296 -0.790221  ...   0   0  l1   3  78.7105\n",
              "3 -2.918245  3.643165  0.070701  1.411236 -1.843138  ...   0   2  l2   2  74.0000\n",
              "4 -1.547518 -2.811621 -0.085715  1.226051 -0.734835  ...   0   0  l2   1  62.0000\n",
              "\n",
              "[5 rows x 26 columns]"
            ]
          },
          "metadata": {
            "tags": []
          },
          "execution_count": 23
        }
      ]
    },
    {
      "cell_type": "code",
      "metadata": {
        "id": "nqdLQsDSLkZC",
        "colab_type": "code",
        "outputId": "930ac8dc-a7b1-4312-de49-433cec174957",
        "colab": {
          "base_uri": "https://localhost:8080/",
          "height": 360
        }
      },
      "source": [
        "!pip install catboost"
      ],
      "execution_count": 0,
      "outputs": [
        {
          "output_type": "stream",
          "text": [
            "Collecting catboost\n",
            "\u001b[?25l  Downloading https://files.pythonhosted.org/packages/94/ec/12b9a42b2ea7dfe5b602f235692ab2b61ee1334ff34334a15902272869e8/catboost-0.22-cp36-none-manylinux1_x86_64.whl (64.4MB)\n",
            "\u001b[K     |████████████████████████████████| 64.4MB 59kB/s \n",
            "\u001b[?25hRequirement already satisfied: six in /usr/local/lib/python3.6/dist-packages (from catboost) (1.12.0)\n",
            "Requirement already satisfied: scipy in /usr/local/lib/python3.6/dist-packages (from catboost) (1.4.1)\n",
            "Requirement already satisfied: plotly in /usr/local/lib/python3.6/dist-packages (from catboost) (4.4.1)\n",
            "Requirement already satisfied: pandas>=0.24.0 in /usr/local/lib/python3.6/dist-packages (from catboost) (0.25.3)\n",
            "Requirement already satisfied: numpy>=1.16.0 in /usr/local/lib/python3.6/dist-packages (from catboost) (1.18.2)\n",
            "Requirement already satisfied: graphviz in /usr/local/lib/python3.6/dist-packages (from catboost) (0.10.1)\n",
            "Requirement already satisfied: matplotlib in /usr/local/lib/python3.6/dist-packages (from catboost) (3.2.1)\n",
            "Requirement already satisfied: retrying>=1.3.3 in /usr/local/lib/python3.6/dist-packages (from plotly->catboost) (1.3.3)\n",
            "Requirement already satisfied: python-dateutil>=2.6.1 in /usr/local/lib/python3.6/dist-packages (from pandas>=0.24.0->catboost) (2.8.1)\n",
            "Requirement already satisfied: pytz>=2017.2 in /usr/local/lib/python3.6/dist-packages (from pandas>=0.24.0->catboost) (2018.9)\n",
            "Requirement already satisfied: pyparsing!=2.0.4,!=2.1.2,!=2.1.6,>=2.0.1 in /usr/local/lib/python3.6/dist-packages (from matplotlib->catboost) (2.4.6)\n",
            "Requirement already satisfied: kiwisolver>=1.0.1 in /usr/local/lib/python3.6/dist-packages (from matplotlib->catboost) (1.1.0)\n",
            "Requirement already satisfied: cycler>=0.10 in /usr/local/lib/python3.6/dist-packages (from matplotlib->catboost) (0.10.0)\n",
            "Requirement already satisfied: setuptools in /usr/local/lib/python3.6/dist-packages (from kiwisolver>=1.0.1->matplotlib->catboost) (46.0.0)\n",
            "Installing collected packages: catboost\n",
            "Successfully installed catboost-0.22\n"
          ],
          "name": "stdout"
        }
      ]
    },
    {
      "cell_type": "markdown",
      "metadata": {
        "id": "s5waVQi4VcAi",
        "colab_type": "text"
      },
      "source": [
        " RMSE, MultiRMSE, MAE, Quantile, LogLinQuantile, Poisson, MAPE, Lq or custom objective object"
      ]
    },
    {
      "cell_type": "code",
      "metadata": {
        "id": "Aq5RMMDG976B",
        "colab_type": "code",
        "colab": {}
      },
      "source": [
        "from catboost import Pool, CatBoostRegressor\n",
        "from catboost import CatBoost\n",
        "\n",
        "categorical_features_indices=[20,23]\n",
        "df_train = df_train.replace(np.nan, '', regex=True)\n",
        "train_dataset = Pool(df_train, b_train,cat_features=categorical_features_indices)\n",
        "\n",
        "df_val = df_val.replace(np.nan, '', regex=True)\n",
        "eval_dataset = Pool(df_val, b_val,cat_features=categorical_features_indices)\n",
        "\n",
        "\n",
        "\n",
        "\n",
        "modelcat = CatBoostRegressor(loss_function='QueryRMSE')\n",
        "\n",
        "grid = {\n",
        "        'learning_rate': [0.03,0.05,0.04,0.01,0.02, 0.07,0.1, 0.2, 0.3],\n",
        "        'depth': [1, 2,3],\n",
        "        'l2_leaf_reg': [1,2, 3,4, 5, 6,7, 8,9]\n",
        "        \n",
        "        }\n",
        "\n",
        "grid_search_result = modelcat.grid_search(grid, \n",
        "                                       X=train_dataset,\n",
        "                                       cv=5,  \n",
        "                                       plot=True\n",
        "                                       )\n",
        "\n",
        "#model1 = CatBoostRegressor(grid_search=grid_search_result, loss_function='RMSE')\n",
        "#model.fit(train_dataset, eval_set=eval_dataset, verbose=False)\n",
        "\n"
      ],
      "execution_count": 0,
      "outputs": []
    },
    {
      "cell_type": "code",
      "metadata": {
        "id": "oOUlC1_8iYMo",
        "colab_type": "code",
        "outputId": "f49b67f0-2847-4dcc-c179-8cba32c4a945",
        "colab": {
          "base_uri": "https://localhost:8080/",
          "height": 275
        }
      },
      "source": [
        "preds = modelcat.predict(eval_dataset)\n",
        "print(list(output_for_val))\n",
        "print(preds)\n",
        "from sklearn.metrics import mean_squared_error\n",
        "mean_squared_error(list(output_for_val),preds)"
      ],
      "execution_count": 0,
      "outputs": [
        {
          "output_type": "stream",
          "text": [
            "[457, 316, 1145, 196, 131, 155, 1359, 213, 706, 1070, 98, 756, 1315, 312, 1309, 303, 928, 618, 134, 31, 244, 325, 66, 965, 65, 527, 1295, 1540, 728, 2309, 25, 2145, 2158, 907, 510, 1392, 1369, 136, 739, 714, 131, 96, 1456, 1425, 515, 463, 1099, 293, 24, 3078, 515, 635, 1315, 632, 559, 265, 1962, 491, 1172, 132]\n",
            "[ 700.65548734  267.25907564  933.05469728  757.29448427  747.54456134\n",
            "  240.84921846  384.06908379  624.54411767  985.14374974 1245.96157486\n",
            "  651.149612    100.69595479  478.59925549  979.60467593  579.48530689\n",
            "  789.37278902  931.60635914  744.04744011  710.6073435   929.28411075\n",
            "  705.83874598  665.41658639  981.95603402  901.39089014  577.06411622\n",
            "  809.29389629  536.96990094 1128.06703549  574.13523181 1473.3674041\n",
            "  429.63031153 1698.78025916 1608.87121724 1156.80388383  395.28786667\n",
            "  214.4779532   978.85845252  855.59632552  869.68204911  250.60669866\n",
            "  -46.56146505  679.63959504 1938.84690188 2034.96280475 1388.29950262\n",
            " 1551.3295841   435.27051195  530.75713357  350.24888335 2095.47159865\n",
            "  795.75506762 1471.89916233 1084.54850012  625.62781864  317.70340131\n",
            "  982.4927266   495.16280231  515.45770235  748.79004737  432.28451331]\n"
          ],
          "name": "stdout"
        },
        {
          "output_type": "execute_result",
          "data": {
            "text/plain": [
              "336192.80326398456"
            ]
          },
          "metadata": {
            "tags": []
          },
          "execution_count": 65
        }
      ]
    },
    {
      "cell_type": "code",
      "metadata": {
        "id": "mjQsxePWriRV",
        "colab_type": "code",
        "outputId": "03f4735e-d34f-402c-f8ee-74424440f8e4",
        "colab": {
          "base_uri": "https://localhost:8080/",
          "height": 323
        }
      },
      "source": [
        "df_test = df_test.replace(np.nan, '', regex=True)\n",
        "\n",
        "\n",
        "preds = modelcat.predict(df_test)\n",
        "submission_ex = pd.read_csv(path + \"random_submission_0vhlEZN.csv\")\n",
        "submission_ex[\"SurvivalTime\"] = preds\n",
        "submission_ex.set_index(\"PatientID\", inplace=True)\n",
        "\n",
        "submission_ex[submission_ex['SurvivalTime'] <0]  = np.pi/3\n",
        "#submission_ex['SurvivalTime'] = submission_ex['SurvivalTime'].astype(int)\n",
        "submission_ex.to_csv(\"submission_8.csv\")\n",
        "print(submission_ex[submission_ex['SurvivalTime'] <1] )\n",
        "print(submission_ex)\n"
      ],
      "execution_count": 0,
      "outputs": [
        {
          "output_type": "stream",
          "text": [
            "Empty DataFrame\n",
            "Columns: [SurvivalTime, Event]\n",
            "Index: []\n",
            "           SurvivalTime  Event\n",
            "PatientID                     \n",
            "13           378.292968    NaN\n",
            "155          814.768410    NaN\n",
            "404          719.928699    NaN\n",
            "407         1176.293827    NaN\n",
            "9           1574.538966    NaN\n",
            "...                 ...    ...\n",
            "66           252.546469    NaN\n",
            "132          678.316772    NaN\n",
            "169          895.035442    NaN\n",
            "199          764.958949    NaN\n",
            "274          420.859380    NaN\n",
            "\n",
            "[125 rows x 2 columns]\n"
          ],
          "name": "stdout"
        }
      ]
    }
  ]
}